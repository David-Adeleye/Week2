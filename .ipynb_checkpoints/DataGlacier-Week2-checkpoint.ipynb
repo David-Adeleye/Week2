{
 "cells": [
  {
   "cell_type": "markdown",
   "id": "a36f1386-0b47-4bea-b66d-4700c7f15fcb",
   "metadata": {},
   "source": [
    "<center><h1>Cab Investment Insights for XYZ Firm</h1></center>"
   ]
  },
  {
   "cell_type": "markdown",
   "id": "56b1f7d3-2727-45c1-9028-96904d1c84b8",
   "metadata": {},
   "source": [
    "<left><h2>Brief Background</h2></left>"
   ]
  },
  {
   "cell_type": "markdown",
   "id": "05daa19a-a00f-41b6-80cc-181e64857b72",
   "metadata": {},
   "source": [
    "<left><h3>The Client</h3></left>"
   ]
  },
  {
   "cell_type": "markdown",
   "id": "cc303baa-d203-46c9-8fba-93aad106f9ff",
   "metadata": {},
   "source": [
    "XYZ is a private firm in US. Due to remarkable growth in the Cab Industry in last few years and multiple key players in the market, it is planning for an investment in Cab industry and as per their Go-to-Market(G2M) strategy they want to understand the market before taking final decision."
   ]
  },
  {
   "cell_type": "markdown",
   "id": "97c9db2e-991f-456e-ad9c-cb4018091e82",
   "metadata": {},
   "source": [
    "<left><h3>The Dataset</h3></left>"
   ]
  },
  {
   "cell_type": "markdown",
   "id": "c2045c35-6a24-4b24-bef3-54ffb7b002ec",
   "metadata": {},
   "source": [
    "The dataset is made up of multiple datasets that contain information on 2 cab companies. Time period of data is from 31/01/2016 to 31/12/2018. The datasets include:\n",
    "\n",
    "Cab_Data.csv – this file includes details of transaction for 2 cab companies\n",
    "\n",
    "Customer_ID.csv – this is a mapping table that contains a unique identifier which links the customer’s demographic details\n",
    "\n",
    "Transaction_ID.csv – this is a mapping table that contains transaction to customer mapping and payment mode\n",
    "\n",
    "City.csv – this file contains list of US cities, their population and number of cab users"
   ]
  },
  {
   "cell_type": "markdown",
   "id": "8307669f-2bd4-4e95-adef-078a86d26e44",
   "metadata": {},
   "source": [
    "<left><h2>Exploratory Data Analysis</h2></left>"
   ]
  },
  {
   "cell_type": "markdown",
   "id": "f3dd367e-3d3b-4baf-8a19-f4c5c02b6907",
   "metadata": {},
   "source": [
    "<left><h3>Load the Dataset</h3></left>"
   ]
  },
  {
   "cell_type": "code",
   "execution_count": 1,
   "id": "0d5e45b5-a157-4101-bd0c-76851ba592e2",
   "metadata": {},
   "outputs": [],
   "source": [
    "import pandas as pd\n",
    "import matplotlib.pyplot as plt\n",
    "from scipy import stats\n",
    "import seaborn as sns"
   ]
  },
  {
   "cell_type": "code",
   "execution_count": 2,
   "id": "f08df6b4-32f4-4ad7-bda9-f0e491f25c33",
   "metadata": {},
   "outputs": [],
   "source": [
    "# Define file paths to the datasets\n",
    "cab_data = '/Users/dave/Downloads/Cab_Data.csv'\n",
    "city_data = '/users/dave/Downloads/City.csv'\n",
    "customer_data = '/users/dave/Downloads/Customer_ID.csv'\n",
    "transaction_data = '/users/dave/Downloads/Transaction_ID.csv'"
   ]
  },
  {
   "cell_type": "code",
   "execution_count": 3,
   "id": "1aa19dfe-ebe6-4fe1-a55d-f2e4d7a401d7",
   "metadata": {},
   "outputs": [],
   "source": [
    "#load each csv data into a dataframe\n",
    "df_cab = pd.read_csv(cab_data)\n",
    "df_city = pd.read_csv(city_data)\n",
    "df_customer = pd.read_csv(customer_data)\n",
    "df_transaction = pd.read_csv(transaction_data)"
   ]
  },
  {
   "cell_type": "markdown",
   "id": "409607db-1e88-4328-96e2-ce74722b7343",
   "metadata": {},
   "source": [
    "<left><h3>Cab_Data Analysis</h3></left>"
   ]
  },
  {
   "cell_type": "code",
   "execution_count": 4,
   "id": "50d6cbab-5ae5-4725-9322-00afbbf0d76c",
   "metadata": {
    "scrolled": true
   },
   "outputs": [
    {
     "name": "stdout",
     "output_type": "stream",
     "text": [
      "   Transaction ID  Date of Travel   Company        City  KM Travelled   \n",
      "0        10000011           42377  Pink Cab  ATLANTA GA         30.45  \\\n",
      "1        10000012           42375  Pink Cab  ATLANTA GA         28.62   \n",
      "2        10000013           42371  Pink Cab  ATLANTA GA          9.04   \n",
      "3        10000014           42376  Pink Cab  ATLANTA GA         33.17   \n",
      "4        10000015           42372  Pink Cab  ATLANTA GA          8.73   \n",
      "\n",
      "   Price Charged  Cost of Trip  \n",
      "0         370.95       313.635  \n",
      "1         358.52       334.854  \n",
      "2         125.20        97.632  \n",
      "3         377.40       351.602  \n",
      "4         114.62        97.776  \n"
     ]
    }
   ],
   "source": [
    "# View the first few rows of the dataset\n",
    "print(df_cab.head())\n"
   ]
  },
  {
   "cell_type": "code",
   "execution_count": 5,
   "id": "9aaadeb5-491a-4c61-bab3-a78020e686e8",
   "metadata": {},
   "outputs": [
    {
     "name": "stdout",
     "output_type": "stream",
     "text": [
      "        Transaction ID  Date of Travel     Company           City   \n",
      "359387        10440101           43108  Yellow Cab  WASHINGTON DC  \\\n",
      "359388        10440104           43104  Yellow Cab  WASHINGTON DC   \n",
      "359389        10440105           43105  Yellow Cab  WASHINGTON DC   \n",
      "359390        10440106           43105  Yellow Cab  WASHINGTON DC   \n",
      "359391        10440107           43102  Yellow Cab  WASHINGTON DC   \n",
      "\n",
      "        KM Travelled  Price Charged  Cost of Trip  \n",
      "359387          4.80          69.24       63.3600  \n",
      "359388          8.40         113.75      106.8480  \n",
      "359389         27.75         437.07      349.6500  \n",
      "359390          8.80         146.19      114.0480  \n",
      "359391         12.76         191.58      177.6192  \n"
     ]
    }
   ],
   "source": [
    "# Print the last few rows\n",
    "print(df_cab.tail())"
   ]
  },
  {
   "cell_type": "code",
   "execution_count": 6,
   "id": "e339d05e-a8e9-4acc-a5fc-b16caf75d10e",
   "metadata": {},
   "outputs": [
    {
     "name": "stdout",
     "output_type": "stream",
     "text": [
      "       Transaction ID  Date of Travel   KM Travelled  Price Charged   \n",
      "count    3.593920e+05   359392.000000  359392.000000  359392.000000  \\\n",
      "mean     1.022076e+07    42964.067998      22.567254     423.443311   \n",
      "std      1.268058e+05      307.467197      12.233526     274.378911   \n",
      "min      1.000001e+07    42371.000000       1.900000      15.600000   \n",
      "25%      1.011081e+07    42697.000000      12.000000     206.437500   \n",
      "50%      1.022104e+07    42988.000000      22.440000     386.360000   \n",
      "75%      1.033094e+07    43232.000000      32.960000     583.660000   \n",
      "max      1.044011e+07    43465.000000      48.000000    2048.030000   \n",
      "\n",
      "        Cost of Trip  \n",
      "count  359392.000000  \n",
      "mean      286.190113  \n",
      "std       157.993661  \n",
      "min        19.000000  \n",
      "25%       151.200000  \n",
      "50%       282.480000  \n",
      "75%       413.683200  \n",
      "max       691.200000  \n"
     ]
    }
   ],
   "source": [
    "# Display basic statistics about the data\n",
    "print(df_cab.describe())"
   ]
  },
  {
   "cell_type": "code",
   "execution_count": 7,
   "id": "b86b0c8c-203a-4703-bdac-d09eddb0a74c",
   "metadata": {},
   "outputs": [
    {
     "name": "stdout",
     "output_type": "stream",
     "text": [
      "Number of entries in the df_cab datasset is 359392\n"
     ]
    }
   ],
   "source": [
    "#number of rows in the df_cab dataset\n",
    "no_of_rows = df_cab.shape[0]\n",
    "print(f\"Number of entries in the df_cab datasset is {no_of_rows}\")"
   ]
  },
  {
   "cell_type": "code",
   "execution_count": 8,
   "id": "cc114e5d-d3bf-4578-812f-40a2c04add94",
   "metadata": {},
   "outputs": [
    {
     "name": "stdout",
     "output_type": "stream",
     "text": [
      "Transaction ID    0\n",
      "Date of Travel    0\n",
      "Company           0\n",
      "City              0\n",
      "KM Travelled      0\n",
      "Price Charged     0\n",
      "Cost of Trip      0\n",
      "dtype: int64\n"
     ]
    }
   ],
   "source": [
    "#check for missing data\n",
    "missing_data_cab = df_cab.isna().sum()\n",
    "print(missing_data_cab)"
   ]
  },
  {
   "cell_type": "code",
   "execution_count": 9,
   "id": "9a88e2f3-391b-43d6-9401-111d6ce1ffd7",
   "metadata": {},
   "outputs": [
    {
     "name": "stdout",
     "output_type": "stream",
     "text": [
      "There are no duplicate rows in the dataset.\n"
     ]
    }
   ],
   "source": [
    "#check for duplicate rows\n",
    "duplicate_rows = df_cab.duplicated(keep=False)\n",
    "\n",
    "if duplicate_rows.any():\n",
    "    print(\"There are duplicate rows in the dataset.\")\n",
    "else:\n",
    "    print(\"There are no duplicate rows in the dataset.\")"
   ]
  },
  {
   "cell_type": "markdown",
   "id": "641f0e63-ef24-4cad-a2ca-3a1ee7f1d530",
   "metadata": {},
   "source": [
    "<left><h4>Univariate Analysis of Categorical Features</h4></left>"
   ]
  },
  {
   "cell_type": "markdown",
   "id": "b66df634-ca98-4723-b08f-394b3c524abd",
   "metadata": {},
   "source": [
    "Company "
   ]
  },
  {
   "cell_type": "code",
   "execution_count": 10,
   "id": "1d27b5ae-92c1-4b8c-af9e-98418479cb8f",
   "metadata": {},
   "outputs": [
    {
     "name": "stdout",
     "output_type": "stream",
     "text": [
      "Number of missing values in 'Company' feature: 0\n"
     ]
    }
   ],
   "source": [
    "#check for missing values\n",
    "\n",
    "missing_company_values = df_cab['Company'].isnull().sum()\n",
    "\n",
    "print(f\"Number of missing values in 'Company' feature: {missing_company_values}\")\n"
   ]
  },
  {
   "cell_type": "code",
   "execution_count": 11,
   "id": "83620bb0-cd43-4df8-bb2e-04088137d5a7",
   "metadata": {},
   "outputs": [
    {
     "name": "stdout",
     "output_type": "stream",
     "text": [
      "['Pink Cab' 'Yellow Cab']\n"
     ]
    }
   ],
   "source": [
    "unique_companies = df_cab['Company'].unique()\n",
    "print(unique_companies)"
   ]
  },
  {
   "cell_type": "code",
   "execution_count": 12,
   "id": "84864c47-0b96-4800-88e6-ed0203239aa4",
   "metadata": {},
   "outputs": [
    {
     "name": "stdout",
     "output_type": "stream",
     "text": [
      "Company\n",
      "Yellow Cab    274681\n",
      "Pink Cab       84711\n",
      "Name: count, dtype: int64\n"
     ]
    }
   ],
   "source": [
    "# Print the distinct companies and their counts\n",
    "company_counts = df_cab['Company'].value_counts()\n",
    "\n",
    "print(company_counts)"
   ]
  },
  {
   "cell_type": "code",
   "execution_count": 13,
   "id": "a66c3b52-1aeb-4722-bf34-ac654922a399",
   "metadata": {},
   "outputs": [
    {
     "name": "stdout",
     "output_type": "stream",
     "text": [
      "Company\n",
      "Yellow Cab    76.429358\n",
      "Pink Cab      23.570642\n",
      "Name: count, dtype: float64\n"
     ]
    }
   ],
   "source": [
    "# Calculate the percentage\n",
    "company_percentage = (df_cab['Company'].value_counts() / len(df_cab)) * 100\n",
    "print(company_percentage)"
   ]
  },
  {
   "cell_type": "code",
   "execution_count": 14,
   "id": "e823c004-51c5-4563-9d43-43a1140e2605",
   "metadata": {},
   "outputs": [
    {
     "data": {
      "image/png": "[encoded data removed]",
      "text/plain": [
       "<Figure size 700x700 with 1 Axes>"
      ]
     },
     "metadata": {},
     "output_type": "display_data"
    }
   ],
   "source": [
    "#create a pied chart of the 'Company' distribution\n",
    "# Define colors using names\n",
    "colors = ['yellow', 'pink']\n",
    "\n",
    "# Create a pie chart with color names\n",
    "plt.figure(figsize=(7, 7))\n",
    "plt.pie(company_percentage, labels=company_percentage.index, autopct='%1.1f%%', startangle=135, colors=colors)\n",
    "plt.title('Company Distribution', y=1.1)\n",
    "plt.axis('equal')\n",
    "plt.show()\n"
   ]
  },
  {
   "cell_type": "markdown",
   "id": "7dbac590-a973-4817-8691-fd3586b0b154",
   "metadata": {},
   "source": [
    "\n",
    "\n"
   ]
  },
  {
   "cell_type": "markdown",
   "id": "5db579a7-8fa4-4e71-8996-1da75ccda6d8",
   "metadata": {},
   "source": [
    "City"
   ]
  },
  {
   "cell_type": "code",
   "execution_count": 15,
   "id": "f87301ef-f362-429a-a4f9-c63ebafa981d",
   "metadata": {},
   "outputs": [
    {
     "name": "stdout",
     "output_type": "stream",
     "text": [
      "Number of missing values in 'City' feature: 0\n"
     ]
    }
   ],
   "source": [
    "#check for missing values\n",
    "missing_values_city = df_cab['City'].isna().sum()\n",
    "print(f\"Number of missing values in 'City' feature: {missing_values_city}\")"
   ]
  },
  {
   "cell_type": "code",
   "execution_count": 16,
   "id": "ac038c21-832e-4653-9411-f9db21ff4554",
   "metadata": {},
   "outputs": [
    {
     "name": "stdout",
     "output_type": "stream",
     "text": [
      "['ATLANTA GA' 'AUSTIN TX' 'BOSTON MA' 'CHICAGO IL' 'DALLAS TX' 'DENVER CO'\n",
      " 'LOS ANGELES CA' 'MIAMI FL' 'NASHVILLE TN' 'NEW YORK NY' 'ORANGE COUNTY'\n",
      " 'PHOENIX AZ' 'PITTSBURGH PA' 'SACRAMENTO CA' 'SAN DIEGO CA' 'SEATTLE WA'\n",
      " 'SILICON VALLEY' 'TUCSON AZ' 'WASHINGTON DC']\n"
     ]
    }
   ],
   "source": [
    "unique_cities = df_cab['City'].unique()\n",
    "print(unique_cities)"
   ]
  },
  {
   "cell_type": "markdown",
   "id": "93bd47b6-51ee-4cfd-92bb-e54edbdf4e9f",
   "metadata": {},
   "source": [
    "Insight: The unique values are indeed unique and none is repeated as a result of spelling or case"
   ]
  },
  {
   "cell_type": "code",
   "execution_count": 17,
   "id": "a803eaa1-105b-4b61-aa49-bc4bead5b817",
   "metadata": {},
   "outputs": [
    {
     "name": "stdout",
     "output_type": "stream",
     "text": [
      "City\n",
      "NEW YORK NY       99885\n",
      "CHICAGO IL        56625\n",
      "LOS ANGELES CA    48033\n",
      "WASHINGTON DC     43737\n",
      "BOSTON MA         29692\n",
      "SAN DIEGO CA      20488\n",
      "SILICON VALLEY     8519\n",
      "SEATTLE WA         7997\n",
      "ATLANTA GA         7557\n",
      "DALLAS TX          7017\n",
      "MIAMI FL           6454\n",
      "AUSTIN TX          4896\n",
      "ORANGE COUNTY      3982\n",
      "DENVER CO          3825\n",
      "NASHVILLE TN       3010\n",
      "SACRAMENTO CA      2367\n",
      "PHOENIX AZ         2064\n",
      "TUCSON AZ          1931\n",
      "PITTSBURGH PA      1313\n",
      "Name: count, dtype: int64\n"
     ]
    }
   ],
   "source": [
    "# to have an understanding of the distribution of the 'city' feature\n",
    "# Print the distinct companies and their counts\n",
    "city_counts = df_cab['City'].value_counts()\n",
    "\n",
    "print(city_counts)"
   ]
  },
  {
   "cell_type": "code",
   "execution_count": 18,
   "id": "d80be348-b65c-4e76-80f8-db7b8d39f128",
   "metadata": {},
   "outputs": [
    {
     "data": {
      "image/png": "[encoded data removed]",
      "text/plain": [
       "<Figure size 1000x600 with 1 Axes>"
      ]
     },
     "metadata": {},
     "output_type": "display_data"
    }
   ],
   "source": [
    "#create a bar plot of 'city' feature\n",
    "# count of each city has been done as city_counts\n",
    "# Extract city names and their counts\n",
    "cities = city_counts.index\n",
    "counts = city_counts.values\n",
    "\n",
    "# Create a bar plot\n",
    "plt.figure(figsize=(10, 6))\n",
    "plt.bar(cities, counts)\n",
    "plt.title('City Distribution')\n",
    "plt.xlabel('City')\n",
    "plt.ylabel('Count')\n",
    "plt.xticks(rotation=90)  # Rotate x-axis labels for readability\n",
    "\n",
    "plt.show()"
   ]
  },
  {
   "cell_type": "markdown",
   "id": "782546c2-45b6-475c-81bf-37940c58b273",
   "metadata": {},
   "source": [
    "Insight: Cities with the most trips include New York NY, Chicago IL, Los Angeles CA, Washington DC, Boston MA and San Diego CA"
   ]
  },
  {
   "cell_type": "markdown",
   "id": "6cbff53c-5ac2-41d5-a089-1152e47a510e",
   "metadata": {},
   "source": [
    "\n",
    "'Transaction ID' Feature"
   ]
  },
  {
   "cell_type": "code",
   "execution_count": 19,
   "id": "4294ad79-5af3-41dc-991d-5d20567b994c",
   "metadata": {},
   "outputs": [
    {
     "name": "stdout",
     "output_type": "stream",
     "text": [
      "Number of unique entries in 'Transaction ID': 359392\n",
      "All entries are unique\n"
     ]
    }
   ],
   "source": [
    "#check for uniqueness of this feature\n",
    "#check if number of unique entries is equal to number of entries in the dataset - 359392\n",
    "unique_entries_count_trans_id = df_cab['Transaction ID'].nunique()\n",
    "\n",
    "print(f\"Number of unique entries in 'Transaction ID': {unique_entries_count_trans_id}\")\n",
    "if unique_entries_count_trans_id == 359392:\n",
    "    print('All entries are unique')\n",
    "else:\n",
    "    print('There are duplicate entries')"
   ]
  },
  {
   "cell_type": "markdown",
   "id": "e2b1ded3-9a8f-4752-b510-718e3d1f7515",
   "metadata": {},
   "source": [
    "\n"
   ]
  },
  {
   "cell_type": "code",
   "execution_count": null,
   "id": "1c73ecec-edcf-4fce-b850-193aaf33da13",
   "metadata": {},
   "outputs": [],
   "source": []
  },
  {
   "cell_type": "markdown",
   "id": "065327da-611a-4dbc-b78c-4a9b74916520",
   "metadata": {},
   "source": [
    "<h4 style='text-align: left'>Univariate Analysis of Numerical Features</h4>"
   ]
  },
  {
   "cell_type": "markdown",
   "id": "054f5ee5-3435-4a06-85c7-70ca6e904924",
   "metadata": {},
   "source": [
    "'Price Charged' Feature"
   ]
  },
  {
   "cell_type": "code",
   "execution_count": 20,
   "id": "c7a1ffd4-9dde-4324-ae92-2561f01481c2",
   "metadata": {},
   "outputs": [
    {
     "data": {
      "image/png": "[encoded data removed]",
      "text/plain": [
       "<Figure size 800x600 with 1 Axes>"
      ]
     },
     "metadata": {},
     "output_type": "display_data"
    }
   ],
   "source": [
    "# Create a histogram for 'Price Charged' to check the distribution\n",
    "plt.figure(figsize=(8, 6))\n",
    "plt.hist(df_cab['Price Charged'], bins=30, color='blue', alpha=0.7)\n",
    "plt.title('Histogram of Price Charged')\n",
    "plt.xlabel('Price Charged ($)')\n",
    "plt.ylabel('Frequency')\n",
    "plt.show()"
   ]
  },
  {
   "cell_type": "markdown",
   "id": "90b68b20-41d0-4ea7-af48-e8ce95cab25d",
   "metadata": {},
   "source": [
    "Insight: The distribution is highly skewed to the right"
   ]
  },
  {
   "cell_type": "code",
   "execution_count": 21,
   "id": "56b18894-d0bb-4ca2-8014-326e2866a7e8",
   "metadata": {},
   "outputs": [
    {
     "data": {
      "image/png": "[encoded data removed]",
      "text/plain": [
       "<Figure size 1300x600 with 1 Axes>"
      ]
     },
     "metadata": {},
     "output_type": "display_data"
    }
   ],
   "source": [
    "# Create a box plot for 'Price Charged'\n",
    "# Use box plot to identify outliers\n",
    "\n",
    "plt.figure(figsize=(13, 6))\n",
    "plt.boxplot(df_cab['Price Charged'], vert=False)\n",
    "plt.title('Box Plot of Price Charged')\n",
    "plt.xlabel('Price Charged')\n",
    "plt.show()\n"
   ]
  },
  {
   "cell_type": "markdown",
   "id": "140b7cf1-6736-4a10-902e-a1855d6ef44d",
   "metadata": {},
   "source": [
    "Insight: The number of outliers seem to be so many"
   ]
  },
  {
   "cell_type": "code",
   "execution_count": 22,
   "id": "49d00296-fa21-4b79-b7c1-97433f759b98",
   "metadata": {},
   "outputs": [
    {
     "name": "stdout",
     "output_type": "stream",
     "text": [
      "Outliers based on Z-scores:\n",
      "        Transaction ID  Date of Travel     Company            City   \n",
      "63            10000074           42371    Pink Cab  LOS ANGELES CA  \\\n",
      "73            10000084           42372    Pink Cab  LOS ANGELES CA   \n",
      "77            10000088           42372    Pink Cab  LOS ANGELES CA   \n",
      "106           10000117           42372    Pink Cab  LOS ANGELES CA   \n",
      "233           10000384           42371  Yellow Cab      ATLANTA GA   \n",
      "...                ...             ...         ...             ...   \n",
      "358836        10439231           43105  Yellow Cab     NEW YORK NY   \n",
      "358843        10439238           43102  Yellow Cab     NEW YORK NY   \n",
      "358894        10439302           43105  Yellow Cab     NEW YORK NY   \n",
      "358920        10439329           43105  Yellow Cab     NEW YORK NY   \n",
      "358949        10439363           43105  Yellow Cab     NEW YORK NY   \n",
      "\n",
      "        KM Travelled  Price Charged  Cost of Trip  \n",
      "63             46.00         997.84      542.8000  \n",
      "73             45.63        1021.72      492.8040  \n",
      "77             41.20         983.99      420.2400  \n",
      "106            42.84        1022.59      436.9680  \n",
      "233            33.93        1341.17      464.1624  \n",
      "...              ...            ...           ...  \n",
      "358836         40.95        1017.97      555.2820  \n",
      "358843         46.40        1018.31      590.2080  \n",
      "358894         41.07        1035.78      512.5536  \n",
      "358920         44.46        1139.42      597.5424  \n",
      "358949         39.27        1016.00      508.9392  \n",
      "\n",
      "[15692 rows x 7 columns]\n"
     ]
    }
   ],
   "source": [
    "#Use z-score to identify outliers\n",
    "\n",
    "# Calculate Z-scores for 'Price Charged' and set a threshold for outliers\n",
    "z_scores = stats.zscore(df_cab['Price Charged'])\n",
    "threshold = 2  # Adjust this threshold as needed\n",
    "\n",
    "# Identify outliers based on Z-scores\n",
    "outliers = df_cab[abs(z_scores) > threshold]\n",
    "\n",
    "# Print the outliers\n",
    "print(\"Outliers based on Z-scores:\")\n",
    "print(outliers)\n"
   ]
  },
  {
   "cell_type": "markdown",
   "id": "f77d52d9-5698-4a13-9df6-c82b557bdcfa",
   "metadata": {},
   "source": [
    "Insight: This gives a high number of outliers - 15,692"
   ]
  },
  {
   "cell_type": "markdown",
   "id": "2396991f-9756-4e3b-a7a7-c197ef9f36e5",
   "metadata": {},
   "source": [
    "Outlier Detection using IQR"
   ]
  },
  {
   "cell_type": "code",
   "execution_count": 23,
   "id": "539129bf-6755-4f53-b183-f2159b4fdc2a",
   "metadata": {},
   "outputs": [],
   "source": [
    "# Calculate the IQR for 'Price Charged'\n",
    "Q1 = df_cab['Price Charged'].quantile(0.25)\n",
    "Q3 = df_cab['Price Charged'].quantile(0.75)\n",
    "IQR = Q3 - Q1\n"
   ]
  },
  {
   "cell_type": "code",
   "execution_count": 24,
   "id": "f0b35be7-36e6-40d0-84f7-6441a9bec9ef",
   "metadata": {},
   "outputs": [],
   "source": [
    "# Define lower and upper bounds for potential outliers\n",
    "lower_bound = Q1 - 1.5 * IQR\n",
    "upper_bound = Q3 + 1.5 * IQR\n"
   ]
  },
  {
   "cell_type": "code",
   "execution_count": 25,
   "id": "4d760f3d-4f4e-4e35-b193-d56f6673b7fe",
   "metadata": {},
   "outputs": [],
   "source": [
    "# Identify potential outliers based on IQR\n",
    "outliers_iqr = df_cab[(df_cab['Price Charged'] < lower_bound) | (df_cab['Price Charged'] > upper_bound)]\n"
   ]
  },
  {
   "cell_type": "code",
   "execution_count": 26,
   "id": "d559232c-439a-4d7d-927a-2a17e1af4390",
   "metadata": {},
   "outputs": [
    {
     "data": {
      "text/html": [
       "<div>\n",
       "<style scoped>\n",
       "    .dataframe tbody tr th:only-of-type {\n",
       "        vertical-align: middle;\n",
       "    }\n",
       "\n",
       "    .dataframe tbody tr th {\n",
       "        vertical-align: top;\n",
       "    }\n",
       "\n",
       "    .dataframe thead th {\n",
       "        text-align: right;\n",
       "    }\n",
       "</style>\n",
       "<table border=\"1\" class=\"dataframe\">\n",
       "  <thead>\n",
       "    <tr style=\"text-align: right;\">\n",
       "      <th></th>\n",
       "      <th>Transaction ID</th>\n",
       "      <th>Date of Travel</th>\n",
       "      <th>Company</th>\n",
       "      <th>City</th>\n",
       "      <th>KM Travelled</th>\n",
       "      <th>Price Charged</th>\n",
       "      <th>Cost of Trip</th>\n",
       "    </tr>\n",
       "  </thead>\n",
       "  <tbody>\n",
       "    <tr>\n",
       "      <th>233</th>\n",
       "      <td>10000384</td>\n",
       "      <td>42371</td>\n",
       "      <td>Yellow Cab</td>\n",
       "      <td>ATLANTA GA</td>\n",
       "      <td>33.93</td>\n",
       "      <td>1341.17</td>\n",
       "      <td>464.1624</td>\n",
       "    </tr>\n",
       "    <tr>\n",
       "      <th>234</th>\n",
       "      <td>10000385</td>\n",
       "      <td>42378</td>\n",
       "      <td>Yellow Cab</td>\n",
       "      <td>ATLANTA GA</td>\n",
       "      <td>42.18</td>\n",
       "      <td>1412.06</td>\n",
       "      <td>516.2832</td>\n",
       "    </tr>\n",
       "    <tr>\n",
       "      <th>237</th>\n",
       "      <td>10000388</td>\n",
       "      <td>42376</td>\n",
       "      <td>Yellow Cab</td>\n",
       "      <td>ATLANTA GA</td>\n",
       "      <td>46.02</td>\n",
       "      <td>1540.61</td>\n",
       "      <td>596.4192</td>\n",
       "    </tr>\n",
       "    <tr>\n",
       "      <th>240</th>\n",
       "      <td>10000391</td>\n",
       "      <td>42378</td>\n",
       "      <td>Yellow Cab</td>\n",
       "      <td>ATLANTA GA</td>\n",
       "      <td>38.08</td>\n",
       "      <td>1239.72</td>\n",
       "      <td>539.2128</td>\n",
       "    </tr>\n",
       "    <tr>\n",
       "      <th>247</th>\n",
       "      <td>10000398</td>\n",
       "      <td>42371</td>\n",
       "      <td>Yellow Cab</td>\n",
       "      <td>ATLANTA GA</td>\n",
       "      <td>38.85</td>\n",
       "      <td>1430.64</td>\n",
       "      <td>545.4540</td>\n",
       "    </tr>\n",
       "    <tr>\n",
       "      <th>...</th>\n",
       "      <td>...</td>\n",
       "      <td>...</td>\n",
       "      <td>...</td>\n",
       "      <td>...</td>\n",
       "      <td>...</td>\n",
       "      <td>...</td>\n",
       "      <td>...</td>\n",
       "    </tr>\n",
       "    <tr>\n",
       "      <th>356234</th>\n",
       "      <td>10435777</td>\n",
       "      <td>43463</td>\n",
       "      <td>Yellow Cab</td>\n",
       "      <td>NEW YORK NY</td>\n",
       "      <td>43.70</td>\n",
       "      <td>1250.09</td>\n",
       "      <td>608.3040</td>\n",
       "    </tr>\n",
       "    <tr>\n",
       "      <th>356286</th>\n",
       "      <td>10435832</td>\n",
       "      <td>43462</td>\n",
       "      <td>Yellow Cab</td>\n",
       "      <td>NEW YORK NY</td>\n",
       "      <td>46.02</td>\n",
       "      <td>1278.24</td>\n",
       "      <td>579.8520</td>\n",
       "    </tr>\n",
       "    <tr>\n",
       "      <th>356292</th>\n",
       "      <td>10435838</td>\n",
       "      <td>43462</td>\n",
       "      <td>Yellow Cab</td>\n",
       "      <td>NEW YORK NY</td>\n",
       "      <td>41.80</td>\n",
       "      <td>1268.75</td>\n",
       "      <td>516.6480</td>\n",
       "    </tr>\n",
       "    <tr>\n",
       "      <th>356303</th>\n",
       "      <td>10435849</td>\n",
       "      <td>43462</td>\n",
       "      <td>Yellow Cab</td>\n",
       "      <td>NEW YORK NY</td>\n",
       "      <td>47.60</td>\n",
       "      <td>1215.36</td>\n",
       "      <td>616.8960</td>\n",
       "    </tr>\n",
       "    <tr>\n",
       "      <th>356315</th>\n",
       "      <td>10435862</td>\n",
       "      <td>43462</td>\n",
       "      <td>Yellow Cab</td>\n",
       "      <td>NEW YORK NY</td>\n",
       "      <td>43.20</td>\n",
       "      <td>1181.98</td>\n",
       "      <td>611.7120</td>\n",
       "    </tr>\n",
       "  </tbody>\n",
       "</table>\n",
       "<p>5958 rows × 7 columns</p>\n",
       "</div>"
      ],
      "text/plain": [
       "        Transaction ID  Date of Travel     Company         City  KM Travelled   \n",
       "233           10000384           42371  Yellow Cab   ATLANTA GA         33.93  \\\n",
       "234           10000385           42378  Yellow Cab   ATLANTA GA         42.18   \n",
       "237           10000388           42376  Yellow Cab   ATLANTA GA         46.02   \n",
       "240           10000391           42378  Yellow Cab   ATLANTA GA         38.08   \n",
       "247           10000398           42371  Yellow Cab   ATLANTA GA         38.85   \n",
       "...                ...             ...         ...          ...           ...   \n",
       "356234        10435777           43463  Yellow Cab  NEW YORK NY         43.70   \n",
       "356286        10435832           43462  Yellow Cab  NEW YORK NY         46.02   \n",
       "356292        10435838           43462  Yellow Cab  NEW YORK NY         41.80   \n",
       "356303        10435849           43462  Yellow Cab  NEW YORK NY         47.60   \n",
       "356315        10435862           43462  Yellow Cab  NEW YORK NY         43.20   \n",
       "\n",
       "        Price Charged  Cost of Trip  \n",
       "233           1341.17      464.1624  \n",
       "234           1412.06      516.2832  \n",
       "237           1540.61      596.4192  \n",
       "240           1239.72      539.2128  \n",
       "247           1430.64      545.4540  \n",
       "...               ...           ...  \n",
       "356234        1250.09      608.3040  \n",
       "356286        1278.24      579.8520  \n",
       "356292        1268.75      516.6480  \n",
       "356303        1215.36      616.8960  \n",
       "356315        1181.98      611.7120  \n",
       "\n",
       "[5958 rows x 7 columns]"
      ]
     },
     "execution_count": 26,
     "metadata": {},
     "output_type": "execute_result"
    }
   ],
   "source": [
    "outliers_iqr"
   ]
  },
  {
   "cell_type": "markdown",
   "id": "cdfd694a-31c1-4d4a-a3b3-f792e8828a27",
   "metadata": {},
   "source": [
    "The number of outliers still appears so high"
   ]
  },
  {
   "cell_type": "markdown",
   "id": "8c01f342-17a2-4e3c-9508-82ffbf86947d",
   "metadata": {},
   "source": [
    "\n"
   ]
  },
  {
   "cell_type": "markdown",
   "id": "2a9473d0-9802-4c74-b81e-50ff9373e19f",
   "metadata": {},
   "source": [
    "'Cost of Trip' Feature"
   ]
  },
  {
   "cell_type": "code",
   "execution_count": 27,
   "id": "04a11f30-c36a-4ac9-8268-55ce518f35dc",
   "metadata": {},
   "outputs": [
    {
     "data": {
      "image/png": "[encoded data removed]",
      "text/plain": [
       "<Figure size 800x600 with 1 Axes>"
      ]
     },
     "metadata": {},
     "output_type": "display_data"
    }
   ],
   "source": [
    "# Create a histogram for 'Cost of Trip' to check the distribution\n",
    "plt.figure(figsize=(8, 6))\n",
    "plt.hist(df_cab['Cost of Trip'], bins=30, color='blue', alpha=0.7)\n",
    "plt.title('Histogram of Cost of Trip')\n",
    "plt.xlabel('Cost of Trip ($)')\n",
    "plt.ylabel('Frequency')\n",
    "plt.show()"
   ]
  },
  {
   "cell_type": "markdown",
   "id": "bd007cf0-8698-40f5-97af-a6ff5fa02e4e",
   "metadata": {},
   "source": [
    "Insight: The number of trips remains fairly steady even as the cost of trip rises up ubtill around $450. Further increase in cost sees a sharp fall in the number of trips."
   ]
  },
  {
   "cell_type": "markdown",
   "id": "58d14ffa-3151-4855-a936-6119461e572c",
   "metadata": {},
   "source": [
    "\n"
   ]
  },
  {
   "cell_type": "markdown",
   "id": "61d70cd7-3cc4-4b60-9aab-410787606e31",
   "metadata": {},
   "source": [
    "'KM Travelled' Feature"
   ]
  },
  {
   "cell_type": "code",
   "execution_count": 28,
   "id": "9f797908-84d8-4ae8-9964-b164c9ee4289",
   "metadata": {},
   "outputs": [
    {
     "data": {
      "image/png": "[encoded data removed]",
      "text/plain": [
       "<Figure size 800x600 with 1 Axes>"
      ]
     },
     "metadata": {},
     "output_type": "display_data"
    }
   ],
   "source": [
    "# Create a histogram for 'KM Travelled' to check the distribution\n",
    "plt.figure(figsize=(8, 6))\n",
    "plt.hist(df_cab['KM Travelled'], bins=20, color='blue', alpha=0.7)\n",
    "plt.title('Histogram of Distance Travelled')\n",
    "plt.xlabel('Distance Travelled (Km)')\n",
    "plt.ylabel('Frequency')\n",
    "plt.show()"
   ]
  },
  {
   "cell_type": "markdown",
   "id": "d7f377c2-127a-48d5-a27e-fb4ad90dda47",
   "metadata": {},
   "source": [
    "Insight: This has a very similar shape to the 'Cost of Trip' feature. The number of trips remained fairly constant even as the distance travelled increased up untill about 40Km. Further increase in distance sees a steep fall in number of trips."
   ]
  },
  {
   "cell_type": "markdown",
   "id": "e7b6daab-505e-4fda-8c3a-f6f42174983c",
   "metadata": {},
   "source": [
    "\n"
   ]
  },
  {
   "cell_type": "markdown",
   "id": "f7bf8811-4ae2-4ec7-b2e7-be19f9aa951f",
   "metadata": {},
   "source": [
    "'Date of Travel' Feature"
   ]
  },
  {
   "cell_type": "code",
   "execution_count": 29,
   "id": "2c82e5ad-f8ac-458d-b6c8-b95e2f1b6f8c",
   "metadata": {},
   "outputs": [
    {
     "data": {
      "text/plain": [
       "count    359392.000000\n",
       "mean      42964.067998\n",
       "std         307.467197\n",
       "min       42371.000000\n",
       "25%       42697.000000\n",
       "50%       42988.000000\n",
       "75%       43232.000000\n",
       "max       43465.000000\n",
       "Name: Date of Travel, dtype: float64"
      ]
     },
     "execution_count": 29,
     "metadata": {},
     "output_type": "execute_result"
    }
   ],
   "source": [
    "df_cab['Date of Travel'].describe()"
   ]
  },
  {
   "cell_type": "markdown",
   "id": "6c73d330-c025-44da-96a6-df0ea8641194",
   "metadata": {},
   "source": []
  },
  {
   "cell_type": "markdown",
   "id": "5fa592a2-467d-4475-b7a5-030c44b527a7",
   "metadata": {},
   "source": [
    "<h4 style='text-align: left'>Feature Engineering using 'Date of Travel' Feature</h4>"
   ]
  },
  {
   "cell_type": "markdown",
   "id": "eeccc1cd-3867-4597-b6c5-d74d363e058b",
   "metadata": {},
   "source": [
    "Using the minimum value in 'Date of travel' feature - 42371 and the beginning year of our dataset - 2016, we calculate the reference year\n"
   ]
  },
  {
   "cell_type": "code",
   "execution_count": 30,
   "id": "bf3a387b-de40-4ee6-91e9-7307770ac3de",
   "metadata": {},
   "outputs": [
    {
     "name": "stdout",
     "output_type": "stream",
     "text": [
      "The reference year is 1900\n"
     ]
    }
   ],
   "source": [
    "ref_year = 2016 - int(42371/365)\n",
    "print(f\"The reference year is {ref_year}\")"
   ]
  },
  {
   "cell_type": "code",
   "execution_count": 31,
   "id": "a81f0f60-fd15-4f05-8d36-76d4775150a8",
   "metadata": {},
   "outputs": [],
   "source": [
    "#create a feature with 'Day of Travel' converted to datetime\n",
    "# Define the reference date\n",
    "reference_date = pd.to_datetime('1900-01-31')\n",
    "\n",
    "# Convert the 'Date of Travel' column to datetime as 'Day of Travel'\n",
    "df_cab['Day of Travel'] = reference_date + pd.to_timedelta(df_cab['Date of Travel'], unit='D')\n"
   ]
  },
  {
   "cell_type": "code",
   "execution_count": 32,
   "id": "7a036bd1-1cbf-4249-8f69-9bfbd0755214",
   "metadata": {},
   "outputs": [
    {
     "data": {
      "text/html": [
       "<div>\n",
       "<style scoped>\n",
       "    .dataframe tbody tr th:only-of-type {\n",
       "        vertical-align: middle;\n",
       "    }\n",
       "\n",
       "    .dataframe tbody tr th {\n",
       "        vertical-align: top;\n",
       "    }\n",
       "\n",
       "    .dataframe thead th {\n",
       "        text-align: right;\n",
       "    }\n",
       "</style>\n",
       "<table border=\"1\" class=\"dataframe\">\n",
       "  <thead>\n",
       "    <tr style=\"text-align: right;\">\n",
       "      <th></th>\n",
       "      <th>Transaction ID</th>\n",
       "      <th>Date of Travel</th>\n",
       "      <th>KM Travelled</th>\n",
       "      <th>Price Charged</th>\n",
       "      <th>Cost of Trip</th>\n",
       "      <th>Day of Travel</th>\n",
       "    </tr>\n",
       "  </thead>\n",
       "  <tbody>\n",
       "    <tr>\n",
       "      <th>count</th>\n",
       "      <td>3.593920e+05</td>\n",
       "      <td>359392.000000</td>\n",
       "      <td>359392.000000</td>\n",
       "      <td>359392.000000</td>\n",
       "      <td>359392.000000</td>\n",
       "      <td>359392</td>\n",
       "    </tr>\n",
       "    <tr>\n",
       "      <th>mean</th>\n",
       "      <td>1.022076e+07</td>\n",
       "      <td>42964.067998</td>\n",
       "      <td>22.567254</td>\n",
       "      <td>423.443311</td>\n",
       "      <td>286.190113</td>\n",
       "      <td>2017-09-18 01:37:55.042293760</td>\n",
       "    </tr>\n",
       "    <tr>\n",
       "      <th>min</th>\n",
       "      <td>1.000001e+07</td>\n",
       "      <td>42371.000000</td>\n",
       "      <td>1.900000</td>\n",
       "      <td>15.600000</td>\n",
       "      <td>19.000000</td>\n",
       "      <td>2016-02-03 00:00:00</td>\n",
       "    </tr>\n",
       "    <tr>\n",
       "      <th>25%</th>\n",
       "      <td>1.011081e+07</td>\n",
       "      <td>42697.000000</td>\n",
       "      <td>12.000000</td>\n",
       "      <td>206.437500</td>\n",
       "      <td>151.200000</td>\n",
       "      <td>2016-12-25 00:00:00</td>\n",
       "    </tr>\n",
       "    <tr>\n",
       "      <th>50%</th>\n",
       "      <td>1.022104e+07</td>\n",
       "      <td>42988.000000</td>\n",
       "      <td>22.440000</td>\n",
       "      <td>386.360000</td>\n",
       "      <td>282.480000</td>\n",
       "      <td>2017-10-12 00:00:00</td>\n",
       "    </tr>\n",
       "    <tr>\n",
       "      <th>75%</th>\n",
       "      <td>1.033094e+07</td>\n",
       "      <td>43232.000000</td>\n",
       "      <td>32.960000</td>\n",
       "      <td>583.660000</td>\n",
       "      <td>413.683200</td>\n",
       "      <td>2018-06-13 00:00:00</td>\n",
       "    </tr>\n",
       "    <tr>\n",
       "      <th>max</th>\n",
       "      <td>1.044011e+07</td>\n",
       "      <td>43465.000000</td>\n",
       "      <td>48.000000</td>\n",
       "      <td>2048.030000</td>\n",
       "      <td>691.200000</td>\n",
       "      <td>2019-02-01 00:00:00</td>\n",
       "    </tr>\n",
       "    <tr>\n",
       "      <th>std</th>\n",
       "      <td>1.268058e+05</td>\n",
       "      <td>307.467197</td>\n",
       "      <td>12.233526</td>\n",
       "      <td>274.378911</td>\n",
       "      <td>157.993661</td>\n",
       "      <td>NaN</td>\n",
       "    </tr>\n",
       "  </tbody>\n",
       "</table>\n",
       "</div>"
      ],
      "text/plain": [
       "       Transaction ID  Date of Travel   KM Travelled  Price Charged   \n",
       "count    3.593920e+05   359392.000000  359392.000000  359392.000000  \\\n",
       "mean     1.022076e+07    42964.067998      22.567254     423.443311   \n",
       "min      1.000001e+07    42371.000000       1.900000      15.600000   \n",
       "25%      1.011081e+07    42697.000000      12.000000     206.437500   \n",
       "50%      1.022104e+07    42988.000000      22.440000     386.360000   \n",
       "75%      1.033094e+07    43232.000000      32.960000     583.660000   \n",
       "max      1.044011e+07    43465.000000      48.000000    2048.030000   \n",
       "std      1.268058e+05      307.467197      12.233526     274.378911   \n",
       "\n",
       "        Cost of Trip                  Day of Travel  \n",
       "count  359392.000000                         359392  \n",
       "mean      286.190113  2017-09-18 01:37:55.042293760  \n",
       "min        19.000000            2016-02-03 00:00:00  \n",
       "25%       151.200000            2016-12-25 00:00:00  \n",
       "50%       282.480000            2017-10-12 00:00:00  \n",
       "75%       413.683200            2018-06-13 00:00:00  \n",
       "max       691.200000            2019-02-01 00:00:00  \n",
       "std       157.993661                            NaN  "
      ]
     },
     "execution_count": 32,
     "metadata": {},
     "output_type": "execute_result"
    }
   ],
   "source": [
    "#view the changes made\n",
    "df_cab.describe()"
   ]
  },
  {
   "cell_type": "code",
   "execution_count": 33,
   "id": "af426dd2-3ad2-4a31-8b11-8c55fc5626f6",
   "metadata": {},
   "outputs": [],
   "source": [
    "# Create a new feature for months\n",
    "df_cab['Month'] = df_cab['Day of Travel'].dt.month\n"
   ]
  },
  {
   "cell_type": "code",
   "execution_count": 34,
   "id": "38750549-e4d2-4db3-b7e1-7b9e1412af4a",
   "metadata": {},
   "outputs": [
    {
     "data": {
      "text/html": [
       "<div>\n",
       "<style scoped>\n",
       "    .dataframe tbody tr th:only-of-type {\n",
       "        vertical-align: middle;\n",
       "    }\n",
       "\n",
       "    .dataframe tbody tr th {\n",
       "        vertical-align: top;\n",
       "    }\n",
       "\n",
       "    .dataframe thead th {\n",
       "        text-align: right;\n",
       "    }\n",
       "</style>\n",
       "<table border=\"1\" class=\"dataframe\">\n",
       "  <thead>\n",
       "    <tr style=\"text-align: right;\">\n",
       "      <th></th>\n",
       "      <th>Transaction ID</th>\n",
       "      <th>Date of Travel</th>\n",
       "      <th>KM Travelled</th>\n",
       "      <th>Price Charged</th>\n",
       "      <th>Cost of Trip</th>\n",
       "      <th>Day of Travel</th>\n",
       "      <th>Month</th>\n",
       "    </tr>\n",
       "  </thead>\n",
       "  <tbody>\n",
       "    <tr>\n",
       "      <th>count</th>\n",
       "      <td>3.593920e+05</td>\n",
       "      <td>359392.000000</td>\n",
       "      <td>359392.000000</td>\n",
       "      <td>359392.000000</td>\n",
       "      <td>359392.000000</td>\n",
       "      <td>359392</td>\n",
       "      <td>359392.000000</td>\n",
       "    </tr>\n",
       "    <tr>\n",
       "      <th>mean</th>\n",
       "      <td>1.022076e+07</td>\n",
       "      <td>42964.067998</td>\n",
       "      <td>22.567254</td>\n",
       "      <td>423.443311</td>\n",
       "      <td>286.190113</td>\n",
       "      <td>2017-09-18 01:37:55.042293760</td>\n",
       "      <td>6.927887</td>\n",
       "    </tr>\n",
       "    <tr>\n",
       "      <th>min</th>\n",
       "      <td>1.000001e+07</td>\n",
       "      <td>42371.000000</td>\n",
       "      <td>1.900000</td>\n",
       "      <td>15.600000</td>\n",
       "      <td>19.000000</td>\n",
       "      <td>2016-02-03 00:00:00</td>\n",
       "      <td>1.000000</td>\n",
       "    </tr>\n",
       "    <tr>\n",
       "      <th>25%</th>\n",
       "      <td>1.011081e+07</td>\n",
       "      <td>42697.000000</td>\n",
       "      <td>12.000000</td>\n",
       "      <td>206.437500</td>\n",
       "      <td>151.200000</td>\n",
       "      <td>2016-12-25 00:00:00</td>\n",
       "      <td>4.000000</td>\n",
       "    </tr>\n",
       "    <tr>\n",
       "      <th>50%</th>\n",
       "      <td>1.022104e+07</td>\n",
       "      <td>42988.000000</td>\n",
       "      <td>22.440000</td>\n",
       "      <td>386.360000</td>\n",
       "      <td>282.480000</td>\n",
       "      <td>2017-10-12 00:00:00</td>\n",
       "      <td>7.000000</td>\n",
       "    </tr>\n",
       "    <tr>\n",
       "      <th>75%</th>\n",
       "      <td>1.033094e+07</td>\n",
       "      <td>43232.000000</td>\n",
       "      <td>32.960000</td>\n",
       "      <td>583.660000</td>\n",
       "      <td>413.683200</td>\n",
       "      <td>2018-06-13 00:00:00</td>\n",
       "      <td>10.000000</td>\n",
       "    </tr>\n",
       "    <tr>\n",
       "      <th>max</th>\n",
       "      <td>1.044011e+07</td>\n",
       "      <td>43465.000000</td>\n",
       "      <td>48.000000</td>\n",
       "      <td>2048.030000</td>\n",
       "      <td>691.200000</td>\n",
       "      <td>2019-02-01 00:00:00</td>\n",
       "      <td>12.000000</td>\n",
       "    </tr>\n",
       "    <tr>\n",
       "      <th>std</th>\n",
       "      <td>1.268058e+05</td>\n",
       "      <td>307.467197</td>\n",
       "      <td>12.233526</td>\n",
       "      <td>274.378911</td>\n",
       "      <td>157.993661</td>\n",
       "      <td>NaN</td>\n",
       "      <td>3.757709</td>\n",
       "    </tr>\n",
       "  </tbody>\n",
       "</table>\n",
       "</div>"
      ],
      "text/plain": [
       "       Transaction ID  Date of Travel   KM Travelled  Price Charged   \n",
       "count    3.593920e+05   359392.000000  359392.000000  359392.000000  \\\n",
       "mean     1.022076e+07    42964.067998      22.567254     423.443311   \n",
       "min      1.000001e+07    42371.000000       1.900000      15.600000   \n",
       "25%      1.011081e+07    42697.000000      12.000000     206.437500   \n",
       "50%      1.022104e+07    42988.000000      22.440000     386.360000   \n",
       "75%      1.033094e+07    43232.000000      32.960000     583.660000   \n",
       "max      1.044011e+07    43465.000000      48.000000    2048.030000   \n",
       "std      1.268058e+05      307.467197      12.233526     274.378911   \n",
       "\n",
       "        Cost of Trip                  Day of Travel          Month  \n",
       "count  359392.000000                         359392  359392.000000  \n",
       "mean      286.190113  2017-09-18 01:37:55.042293760       6.927887  \n",
       "min        19.000000            2016-02-03 00:00:00       1.000000  \n",
       "25%       151.200000            2016-12-25 00:00:00       4.000000  \n",
       "50%       282.480000            2017-10-12 00:00:00       7.000000  \n",
       "75%       413.683200            2018-06-13 00:00:00      10.000000  \n",
       "max       691.200000            2019-02-01 00:00:00      12.000000  \n",
       "std       157.993661                            NaN       3.757709  "
      ]
     },
     "execution_count": 34,
     "metadata": {},
     "output_type": "execute_result"
    }
   ],
   "source": [
    "#view the changes made\n",
    "df_cab.describe()"
   ]
  },
  {
   "cell_type": "code",
   "execution_count": 35,
   "id": "539a7c86-02b3-4d4f-b73c-b8e3f27fda44",
   "metadata": {},
   "outputs": [],
   "source": [
    "# Create a feature for month name\n",
    "df_cab['Month Name'] = df_cab['Day of Travel'].dt.strftime('%B')\n",
    "\n"
   ]
  },
  {
   "cell_type": "code",
   "execution_count": 36,
   "id": "33248801-b267-443a-bf69-6a058613fc0c",
   "metadata": {},
   "outputs": [
    {
     "data": {
      "text/html": [
       "<div>\n",
       "<style scoped>\n",
       "    .dataframe tbody tr th:only-of-type {\n",
       "        vertical-align: middle;\n",
       "    }\n",
       "\n",
       "    .dataframe tbody tr th {\n",
       "        vertical-align: top;\n",
       "    }\n",
       "\n",
       "    .dataframe thead th {\n",
       "        text-align: right;\n",
       "    }\n",
       "</style>\n",
       "<table border=\"1\" class=\"dataframe\">\n",
       "  <thead>\n",
       "    <tr style=\"text-align: right;\">\n",
       "      <th></th>\n",
       "      <th>Transaction ID</th>\n",
       "      <th>Date of Travel</th>\n",
       "      <th>KM Travelled</th>\n",
       "      <th>Price Charged</th>\n",
       "      <th>Cost of Trip</th>\n",
       "      <th>Day of Travel</th>\n",
       "      <th>Month</th>\n",
       "    </tr>\n",
       "  </thead>\n",
       "  <tbody>\n",
       "    <tr>\n",
       "      <th>count</th>\n",
       "      <td>3.593920e+05</td>\n",
       "      <td>359392.000000</td>\n",
       "      <td>359392.000000</td>\n",
       "      <td>359392.000000</td>\n",
       "      <td>359392.000000</td>\n",
       "      <td>359392</td>\n",
       "      <td>359392.000000</td>\n",
       "    </tr>\n",
       "    <tr>\n",
       "      <th>mean</th>\n",
       "      <td>1.022076e+07</td>\n",
       "      <td>42964.067998</td>\n",
       "      <td>22.567254</td>\n",
       "      <td>423.443311</td>\n",
       "      <td>286.190113</td>\n",
       "      <td>2017-09-18 01:37:55.042293760</td>\n",
       "      <td>6.927887</td>\n",
       "    </tr>\n",
       "    <tr>\n",
       "      <th>min</th>\n",
       "      <td>1.000001e+07</td>\n",
       "      <td>42371.000000</td>\n",
       "      <td>1.900000</td>\n",
       "      <td>15.600000</td>\n",
       "      <td>19.000000</td>\n",
       "      <td>2016-02-03 00:00:00</td>\n",
       "      <td>1.000000</td>\n",
       "    </tr>\n",
       "    <tr>\n",
       "      <th>25%</th>\n",
       "      <td>1.011081e+07</td>\n",
       "      <td>42697.000000</td>\n",
       "      <td>12.000000</td>\n",
       "      <td>206.437500</td>\n",
       "      <td>151.200000</td>\n",
       "      <td>2016-12-25 00:00:00</td>\n",
       "      <td>4.000000</td>\n",
       "    </tr>\n",
       "    <tr>\n",
       "      <th>50%</th>\n",
       "      <td>1.022104e+07</td>\n",
       "      <td>42988.000000</td>\n",
       "      <td>22.440000</td>\n",
       "      <td>386.360000</td>\n",
       "      <td>282.480000</td>\n",
       "      <td>2017-10-12 00:00:00</td>\n",
       "      <td>7.000000</td>\n",
       "    </tr>\n",
       "    <tr>\n",
       "      <th>75%</th>\n",
       "      <td>1.033094e+07</td>\n",
       "      <td>43232.000000</td>\n",
       "      <td>32.960000</td>\n",
       "      <td>583.660000</td>\n",
       "      <td>413.683200</td>\n",
       "      <td>2018-06-13 00:00:00</td>\n",
       "      <td>10.000000</td>\n",
       "    </tr>\n",
       "    <tr>\n",
       "      <th>max</th>\n",
       "      <td>1.044011e+07</td>\n",
       "      <td>43465.000000</td>\n",
       "      <td>48.000000</td>\n",
       "      <td>2048.030000</td>\n",
       "      <td>691.200000</td>\n",
       "      <td>2019-02-01 00:00:00</td>\n",
       "      <td>12.000000</td>\n",
       "    </tr>\n",
       "    <tr>\n",
       "      <th>std</th>\n",
       "      <td>1.268058e+05</td>\n",
       "      <td>307.467197</td>\n",
       "      <td>12.233526</td>\n",
       "      <td>274.378911</td>\n",
       "      <td>157.993661</td>\n",
       "      <td>NaN</td>\n",
       "      <td>3.757709</td>\n",
       "    </tr>\n",
       "  </tbody>\n",
       "</table>\n",
       "</div>"
      ],
      "text/plain": [
       "       Transaction ID  Date of Travel   KM Travelled  Price Charged   \n",
       "count    3.593920e+05   359392.000000  359392.000000  359392.000000  \\\n",
       "mean     1.022076e+07    42964.067998      22.567254     423.443311   \n",
       "min      1.000001e+07    42371.000000       1.900000      15.600000   \n",
       "25%      1.011081e+07    42697.000000      12.000000     206.437500   \n",
       "50%      1.022104e+07    42988.000000      22.440000     386.360000   \n",
       "75%      1.033094e+07    43232.000000      32.960000     583.660000   \n",
       "max      1.044011e+07    43465.000000      48.000000    2048.030000   \n",
       "std      1.268058e+05      307.467197      12.233526     274.378911   \n",
       "\n",
       "        Cost of Trip                  Day of Travel          Month  \n",
       "count  359392.000000                         359392  359392.000000  \n",
       "mean      286.190113  2017-09-18 01:37:55.042293760       6.927887  \n",
       "min        19.000000            2016-02-03 00:00:00       1.000000  \n",
       "25%       151.200000            2016-12-25 00:00:00       4.000000  \n",
       "50%       282.480000            2017-10-12 00:00:00       7.000000  \n",
       "75%       413.683200            2018-06-13 00:00:00      10.000000  \n",
       "max       691.200000            2019-02-01 00:00:00      12.000000  \n",
       "std       157.993661                            NaN       3.757709  "
      ]
     },
     "execution_count": 36,
     "metadata": {},
     "output_type": "execute_result"
    }
   ],
   "source": [
    "#view the changes\n",
    "df_cab.describe()"
   ]
  },
  {
   "cell_type": "code",
   "execution_count": 37,
   "id": "69863170-9fdc-42f0-a0de-b3066530d26a",
   "metadata": {},
   "outputs": [
    {
     "data": {
      "text/html": [
       "<div>\n",
       "<style scoped>\n",
       "    .dataframe tbody tr th:only-of-type {\n",
       "        vertical-align: middle;\n",
       "    }\n",
       "\n",
       "    .dataframe tbody tr th {\n",
       "        vertical-align: top;\n",
       "    }\n",
       "\n",
       "    .dataframe thead th {\n",
       "        text-align: right;\n",
       "    }\n",
       "</style>\n",
       "<table border=\"1\" class=\"dataframe\">\n",
       "  <thead>\n",
       "    <tr style=\"text-align: right;\">\n",
       "      <th></th>\n",
       "      <th>Transaction ID</th>\n",
       "      <th>Date of Travel</th>\n",
       "      <th>Company</th>\n",
       "      <th>City</th>\n",
       "      <th>KM Travelled</th>\n",
       "      <th>Price Charged</th>\n",
       "      <th>Cost of Trip</th>\n",
       "      <th>Day of Travel</th>\n",
       "      <th>Month</th>\n",
       "      <th>Month Name</th>\n",
       "    </tr>\n",
       "  </thead>\n",
       "  <tbody>\n",
       "    <tr>\n",
       "      <th>0</th>\n",
       "      <td>10000011</td>\n",
       "      <td>42377</td>\n",
       "      <td>Pink Cab</td>\n",
       "      <td>ATLANTA GA</td>\n",
       "      <td>30.45</td>\n",
       "      <td>370.95</td>\n",
       "      <td>313.635</td>\n",
       "      <td>2016-02-09</td>\n",
       "      <td>2</td>\n",
       "      <td>February</td>\n",
       "    </tr>\n",
       "    <tr>\n",
       "      <th>1</th>\n",
       "      <td>10000012</td>\n",
       "      <td>42375</td>\n",
       "      <td>Pink Cab</td>\n",
       "      <td>ATLANTA GA</td>\n",
       "      <td>28.62</td>\n",
       "      <td>358.52</td>\n",
       "      <td>334.854</td>\n",
       "      <td>2016-02-07</td>\n",
       "      <td>2</td>\n",
       "      <td>February</td>\n",
       "    </tr>\n",
       "    <tr>\n",
       "      <th>2</th>\n",
       "      <td>10000013</td>\n",
       "      <td>42371</td>\n",
       "      <td>Pink Cab</td>\n",
       "      <td>ATLANTA GA</td>\n",
       "      <td>9.04</td>\n",
       "      <td>125.20</td>\n",
       "      <td>97.632</td>\n",
       "      <td>2016-02-03</td>\n",
       "      <td>2</td>\n",
       "      <td>February</td>\n",
       "    </tr>\n",
       "    <tr>\n",
       "      <th>3</th>\n",
       "      <td>10000014</td>\n",
       "      <td>42376</td>\n",
       "      <td>Pink Cab</td>\n",
       "      <td>ATLANTA GA</td>\n",
       "      <td>33.17</td>\n",
       "      <td>377.40</td>\n",
       "      <td>351.602</td>\n",
       "      <td>2016-02-08</td>\n",
       "      <td>2</td>\n",
       "      <td>February</td>\n",
       "    </tr>\n",
       "    <tr>\n",
       "      <th>4</th>\n",
       "      <td>10000015</td>\n",
       "      <td>42372</td>\n",
       "      <td>Pink Cab</td>\n",
       "      <td>ATLANTA GA</td>\n",
       "      <td>8.73</td>\n",
       "      <td>114.62</td>\n",
       "      <td>97.776</td>\n",
       "      <td>2016-02-04</td>\n",
       "      <td>2</td>\n",
       "      <td>February</td>\n",
       "    </tr>\n",
       "  </tbody>\n",
       "</table>\n",
       "</div>"
      ],
      "text/plain": [
       "   Transaction ID  Date of Travel   Company        City  KM Travelled   \n",
       "0        10000011           42377  Pink Cab  ATLANTA GA         30.45  \\\n",
       "1        10000012           42375  Pink Cab  ATLANTA GA         28.62   \n",
       "2        10000013           42371  Pink Cab  ATLANTA GA          9.04   \n",
       "3        10000014           42376  Pink Cab  ATLANTA GA         33.17   \n",
       "4        10000015           42372  Pink Cab  ATLANTA GA          8.73   \n",
       "\n",
       "   Price Charged  Cost of Trip Day of Travel  Month Month Name  \n",
       "0         370.95       313.635    2016-02-09      2   February  \n",
       "1         358.52       334.854    2016-02-07      2   February  \n",
       "2         125.20        97.632    2016-02-03      2   February  \n",
       "3         377.40       351.602    2016-02-08      2   February  \n",
       "4         114.62        97.776    2016-02-04      2   February  "
      ]
     },
     "execution_count": 37,
     "metadata": {},
     "output_type": "execute_result"
    }
   ],
   "source": [
    "df_cab.head()"
   ]
  },
  {
   "cell_type": "code",
   "execution_count": 38,
   "id": "853bd69c-1cca-45a5-aa19-31b69f3fc1b0",
   "metadata": {},
   "outputs": [],
   "source": [
    "# Create a new feature for seasons\n",
    "def season(month):\n",
    "    if 3 <= month <= 5:\n",
    "        return 'Spring'\n",
    "    elif 6 <= month <= 8:\n",
    "        return 'Summer'\n",
    "    elif 9 <= month <= 11:\n",
    "        return 'Autumn'\n",
    "    else:\n",
    "        return 'Winter'\n",
    "\n",
    "df_cab['Season'] = df_cab['Month'].apply(season)\n"
   ]
  },
  {
   "cell_type": "code",
   "execution_count": 39,
   "id": "7acc31e1-a78f-4b88-9ac1-ea5f155db01a",
   "metadata": {},
   "outputs": [
    {
     "data": {
      "text/html": [
       "<div>\n",
       "<style scoped>\n",
       "    .dataframe tbody tr th:only-of-type {\n",
       "        vertical-align: middle;\n",
       "    }\n",
       "\n",
       "    .dataframe tbody tr th {\n",
       "        vertical-align: top;\n",
       "    }\n",
       "\n",
       "    .dataframe thead th {\n",
       "        text-align: right;\n",
       "    }\n",
       "</style>\n",
       "<table border=\"1\" class=\"dataframe\">\n",
       "  <thead>\n",
       "    <tr style=\"text-align: right;\">\n",
       "      <th></th>\n",
       "      <th>Transaction ID</th>\n",
       "      <th>Date of Travel</th>\n",
       "      <th>Company</th>\n",
       "      <th>City</th>\n",
       "      <th>KM Travelled</th>\n",
       "      <th>Price Charged</th>\n",
       "      <th>Cost of Trip</th>\n",
       "      <th>Day of Travel</th>\n",
       "      <th>Month</th>\n",
       "      <th>Month Name</th>\n",
       "      <th>Season</th>\n",
       "    </tr>\n",
       "  </thead>\n",
       "  <tbody>\n",
       "    <tr>\n",
       "      <th>0</th>\n",
       "      <td>10000011</td>\n",
       "      <td>42377</td>\n",
       "      <td>Pink Cab</td>\n",
       "      <td>ATLANTA GA</td>\n",
       "      <td>30.45</td>\n",
       "      <td>370.95</td>\n",
       "      <td>313.635</td>\n",
       "      <td>2016-02-09</td>\n",
       "      <td>2</td>\n",
       "      <td>February</td>\n",
       "      <td>Winter</td>\n",
       "    </tr>\n",
       "    <tr>\n",
       "      <th>1</th>\n",
       "      <td>10000012</td>\n",
       "      <td>42375</td>\n",
       "      <td>Pink Cab</td>\n",
       "      <td>ATLANTA GA</td>\n",
       "      <td>28.62</td>\n",
       "      <td>358.52</td>\n",
       "      <td>334.854</td>\n",
       "      <td>2016-02-07</td>\n",
       "      <td>2</td>\n",
       "      <td>February</td>\n",
       "      <td>Winter</td>\n",
       "    </tr>\n",
       "    <tr>\n",
       "      <th>2</th>\n",
       "      <td>10000013</td>\n",
       "      <td>42371</td>\n",
       "      <td>Pink Cab</td>\n",
       "      <td>ATLANTA GA</td>\n",
       "      <td>9.04</td>\n",
       "      <td>125.20</td>\n",
       "      <td>97.632</td>\n",
       "      <td>2016-02-03</td>\n",
       "      <td>2</td>\n",
       "      <td>February</td>\n",
       "      <td>Winter</td>\n",
       "    </tr>\n",
       "    <tr>\n",
       "      <th>3</th>\n",
       "      <td>10000014</td>\n",
       "      <td>42376</td>\n",
       "      <td>Pink Cab</td>\n",
       "      <td>ATLANTA GA</td>\n",
       "      <td>33.17</td>\n",
       "      <td>377.40</td>\n",
       "      <td>351.602</td>\n",
       "      <td>2016-02-08</td>\n",
       "      <td>2</td>\n",
       "      <td>February</td>\n",
       "      <td>Winter</td>\n",
       "    </tr>\n",
       "    <tr>\n",
       "      <th>4</th>\n",
       "      <td>10000015</td>\n",
       "      <td>42372</td>\n",
       "      <td>Pink Cab</td>\n",
       "      <td>ATLANTA GA</td>\n",
       "      <td>8.73</td>\n",
       "      <td>114.62</td>\n",
       "      <td>97.776</td>\n",
       "      <td>2016-02-04</td>\n",
       "      <td>2</td>\n",
       "      <td>February</td>\n",
       "      <td>Winter</td>\n",
       "    </tr>\n",
       "  </tbody>\n",
       "</table>\n",
       "</div>"
      ],
      "text/plain": [
       "   Transaction ID  Date of Travel   Company        City  KM Travelled   \n",
       "0        10000011           42377  Pink Cab  ATLANTA GA         30.45  \\\n",
       "1        10000012           42375  Pink Cab  ATLANTA GA         28.62   \n",
       "2        10000013           42371  Pink Cab  ATLANTA GA          9.04   \n",
       "3        10000014           42376  Pink Cab  ATLANTA GA         33.17   \n",
       "4        10000015           42372  Pink Cab  ATLANTA GA          8.73   \n",
       "\n",
       "   Price Charged  Cost of Trip Day of Travel  Month Month Name  Season  \n",
       "0         370.95       313.635    2016-02-09      2   February  Winter  \n",
       "1         358.52       334.854    2016-02-07      2   February  Winter  \n",
       "2         125.20        97.632    2016-02-03      2   February  Winter  \n",
       "3         377.40       351.602    2016-02-08      2   February  Winter  \n",
       "4         114.62        97.776    2016-02-04      2   February  Winter  "
      ]
     },
     "execution_count": 39,
     "metadata": {},
     "output_type": "execute_result"
    }
   ],
   "source": [
    "# View changes made\n",
    "df_cab.head()"
   ]
  },
  {
   "cell_type": "code",
   "execution_count": 40,
   "id": "9c076b3a-c6ed-433e-b5db-3dc105f8e6e2",
   "metadata": {},
   "outputs": [
    {
     "data": {
      "text/html": [
       "<div>\n",
       "<style scoped>\n",
       "    .dataframe tbody tr th:only-of-type {\n",
       "        vertical-align: middle;\n",
       "    }\n",
       "\n",
       "    .dataframe tbody tr th {\n",
       "        vertical-align: top;\n",
       "    }\n",
       "\n",
       "    .dataframe thead th {\n",
       "        text-align: right;\n",
       "    }\n",
       "</style>\n",
       "<table border=\"1\" class=\"dataframe\">\n",
       "  <thead>\n",
       "    <tr style=\"text-align: right;\">\n",
       "      <th></th>\n",
       "      <th>Transaction ID</th>\n",
       "      <th>Date of Travel</th>\n",
       "      <th>Company</th>\n",
       "      <th>City</th>\n",
       "      <th>KM Travelled</th>\n",
       "      <th>Price Charged</th>\n",
       "      <th>Cost of Trip</th>\n",
       "      <th>Day of Travel</th>\n",
       "      <th>Month</th>\n",
       "      <th>Month Name</th>\n",
       "      <th>Season</th>\n",
       "    </tr>\n",
       "  </thead>\n",
       "  <tbody>\n",
       "    <tr>\n",
       "      <th>359387</th>\n",
       "      <td>10440101</td>\n",
       "      <td>43108</td>\n",
       "      <td>Yellow Cab</td>\n",
       "      <td>WASHINGTON DC</td>\n",
       "      <td>4.80</td>\n",
       "      <td>69.24</td>\n",
       "      <td>63.3600</td>\n",
       "      <td>2018-02-09</td>\n",
       "      <td>2</td>\n",
       "      <td>February</td>\n",
       "      <td>Winter</td>\n",
       "    </tr>\n",
       "    <tr>\n",
       "      <th>359388</th>\n",
       "      <td>10440104</td>\n",
       "      <td>43104</td>\n",
       "      <td>Yellow Cab</td>\n",
       "      <td>WASHINGTON DC</td>\n",
       "      <td>8.40</td>\n",
       "      <td>113.75</td>\n",
       "      <td>106.8480</td>\n",
       "      <td>2018-02-05</td>\n",
       "      <td>2</td>\n",
       "      <td>February</td>\n",
       "      <td>Winter</td>\n",
       "    </tr>\n",
       "    <tr>\n",
       "      <th>359389</th>\n",
       "      <td>10440105</td>\n",
       "      <td>43105</td>\n",
       "      <td>Yellow Cab</td>\n",
       "      <td>WASHINGTON DC</td>\n",
       "      <td>27.75</td>\n",
       "      <td>437.07</td>\n",
       "      <td>349.6500</td>\n",
       "      <td>2018-02-06</td>\n",
       "      <td>2</td>\n",
       "      <td>February</td>\n",
       "      <td>Winter</td>\n",
       "    </tr>\n",
       "    <tr>\n",
       "      <th>359390</th>\n",
       "      <td>10440106</td>\n",
       "      <td>43105</td>\n",
       "      <td>Yellow Cab</td>\n",
       "      <td>WASHINGTON DC</td>\n",
       "      <td>8.80</td>\n",
       "      <td>146.19</td>\n",
       "      <td>114.0480</td>\n",
       "      <td>2018-02-06</td>\n",
       "      <td>2</td>\n",
       "      <td>February</td>\n",
       "      <td>Winter</td>\n",
       "    </tr>\n",
       "    <tr>\n",
       "      <th>359391</th>\n",
       "      <td>10440107</td>\n",
       "      <td>43102</td>\n",
       "      <td>Yellow Cab</td>\n",
       "      <td>WASHINGTON DC</td>\n",
       "      <td>12.76</td>\n",
       "      <td>191.58</td>\n",
       "      <td>177.6192</td>\n",
       "      <td>2018-02-03</td>\n",
       "      <td>2</td>\n",
       "      <td>February</td>\n",
       "      <td>Winter</td>\n",
       "    </tr>\n",
       "  </tbody>\n",
       "</table>\n",
       "</div>"
      ],
      "text/plain": [
       "        Transaction ID  Date of Travel     Company           City   \n",
       "359387        10440101           43108  Yellow Cab  WASHINGTON DC  \\\n",
       "359388        10440104           43104  Yellow Cab  WASHINGTON DC   \n",
       "359389        10440105           43105  Yellow Cab  WASHINGTON DC   \n",
       "359390        10440106           43105  Yellow Cab  WASHINGTON DC   \n",
       "359391        10440107           43102  Yellow Cab  WASHINGTON DC   \n",
       "\n",
       "        KM Travelled  Price Charged  Cost of Trip Day of Travel  Month   \n",
       "359387          4.80          69.24       63.3600    2018-02-09      2  \\\n",
       "359388          8.40         113.75      106.8480    2018-02-05      2   \n",
       "359389         27.75         437.07      349.6500    2018-02-06      2   \n",
       "359390          8.80         146.19      114.0480    2018-02-06      2   \n",
       "359391         12.76         191.58      177.6192    2018-02-03      2   \n",
       "\n",
       "       Month Name  Season  \n",
       "359387   February  Winter  \n",
       "359388   February  Winter  \n",
       "359389   February  Winter  \n",
       "359390   February  Winter  \n",
       "359391   February  Winter  "
      ]
     },
     "execution_count": 40,
     "metadata": {},
     "output_type": "execute_result"
    }
   ],
   "source": [
    "df_cab.tail()"
   ]
  },
  {
   "cell_type": "markdown",
   "id": "c025b867-c97a-4af7-be64-da4fb63ee77f",
   "metadata": {},
   "source": [
    "<h4 style='text-align: left'>Feature Engineering using 'Cost of Trip' and 'Price Charged' Features</h4>"
   ]
  },
  {
   "cell_type": "code",
   "execution_count": 41,
   "id": "8aa50e6c-3f43-45f0-b49a-d473868cf4b8",
   "metadata": {},
   "outputs": [],
   "source": [
    "# Create a profit feature\n",
    "# Calculate the profit by subtracting \"Cost of Trip\" from \"Price Charged\"\n",
    "df_cab['Profit'] = df_cab['Price Charged'] - df_cab['Cost of Trip']\n",
    "\n"
   ]
  },
  {
   "cell_type": "code",
   "execution_count": 42,
   "id": "041b3a6d-7159-4907-9195-c233641ae43a",
   "metadata": {},
   "outputs": [
    {
     "name": "stdout",
     "output_type": "stream",
     "text": [
      "   Price Charged  Cost of Trip  Profit\n",
      "0         370.95       313.635  57.315\n",
      "1         358.52       334.854  23.666\n",
      "2         125.20        97.632  27.568\n",
      "3         377.40       351.602  25.798\n",
      "4         114.62        97.776  16.844\n"
     ]
    }
   ],
   "source": [
    "# Verify new feature\n",
    "\n",
    "print(df_cab[['Price Charged', 'Cost of Trip', 'Profit']].head())"
   ]
  },
  {
   "cell_type": "code",
   "execution_count": 43,
   "id": "b6ea3760-7aab-4e6c-8673-0019dec2646e",
   "metadata": {},
   "outputs": [],
   "source": [
    "# Calculate the profit margin and add it as a new column in the DataFrame\n",
    "df_cab['Profit Margin (%)'] = (df_cab['Profit'] / df_cab['Cost of Trip']) * 100\n"
   ]
  },
  {
   "cell_type": "code",
   "execution_count": 44,
   "id": "139dc438-f4fd-44b4-9e0d-9eadfe447331",
   "metadata": {},
   "outputs": [
    {
     "data": {
      "text/html": [
       "<div>\n",
       "<style scoped>\n",
       "    .dataframe tbody tr th:only-of-type {\n",
       "        vertical-align: middle;\n",
       "    }\n",
       "\n",
       "    .dataframe tbody tr th {\n",
       "        vertical-align: top;\n",
       "    }\n",
       "\n",
       "    .dataframe thead th {\n",
       "        text-align: right;\n",
       "    }\n",
       "</style>\n",
       "<table border=\"1\" class=\"dataframe\">\n",
       "  <thead>\n",
       "    <tr style=\"text-align: right;\">\n",
       "      <th></th>\n",
       "      <th>Profit Margin (%)</th>\n",
       "    </tr>\n",
       "  </thead>\n",
       "  <tbody>\n",
       "    <tr>\n",
       "      <th>0</th>\n",
       "      <td>18.274427</td>\n",
       "    </tr>\n",
       "    <tr>\n",
       "      <th>1</th>\n",
       "      <td>7.067558</td>\n",
       "    </tr>\n",
       "    <tr>\n",
       "      <th>2</th>\n",
       "      <td>28.236644</td>\n",
       "    </tr>\n",
       "    <tr>\n",
       "      <th>3</th>\n",
       "      <td>7.337273</td>\n",
       "    </tr>\n",
       "    <tr>\n",
       "      <th>4</th>\n",
       "      <td>17.227131</td>\n",
       "    </tr>\n",
       "  </tbody>\n",
       "</table>\n",
       "</div>"
      ],
      "text/plain": [
       "   Profit Margin (%)\n",
       "0          18.274427\n",
       "1           7.067558\n",
       "2          28.236644\n",
       "3           7.337273\n",
       "4          17.227131"
      ]
     },
     "execution_count": 44,
     "metadata": {},
     "output_type": "execute_result"
    }
   ],
   "source": [
    "# Display the first few rows to verify the new column\n",
    "df_cab[['Profit Margin (%)']].head()"
   ]
  },
  {
   "cell_type": "markdown",
   "id": "ff9244dd-3022-40d6-a890-c9e2565c10da",
   "metadata": {},
   "source": [
    "<h4 style='text-align: left'>Analysis of Engineered Features</h4>"
   ]
  },
  {
   "cell_type": "code",
   "execution_count": 45,
   "id": "7ac55d21-348d-4481-9d0f-838f0c25a0d9",
   "metadata": {},
   "outputs": [
    {
     "data": {
      "text/plain": [
       "count      359392\n",
       "unique         12\n",
       "top       January\n",
       "freq        46701\n",
       "Name: Month Name, dtype: object"
      ]
     },
     "execution_count": 45,
     "metadata": {},
     "output_type": "execute_result"
    }
   ],
   "source": [
    "# As only February and Winter is seen, confirm other months and seasons\n",
    "df_cab['Month Name'].describe()"
   ]
  },
  {
   "cell_type": "markdown",
   "id": "89c4e7c2-226e-4390-a399-f588e191c8a3",
   "metadata": {},
   "source": [
    "Insight: There are 23 unique vales meaning the 12 months are represented, with January being the most frequent."
   ]
  },
  {
   "cell_type": "code",
   "execution_count": 46,
   "id": "592febbc-c757-4e21-8940-fd1d7898cfd5",
   "metadata": {},
   "outputs": [
    {
     "data": {
      "text/plain": [
       "count     359392\n",
       "unique         4\n",
       "top       Winter\n",
       "freq      113086\n",
       "Name: Season, dtype: object"
      ]
     },
     "execution_count": 46,
     "metadata": {},
     "output_type": "execute_result"
    }
   ],
   "source": [
    "df_cab['Season'].describe()"
   ]
  },
  {
   "cell_type": "markdown",
   "id": "7e02492c-9b9a-4bdf-a019-f09363f95cd2",
   "metadata": {},
   "source": [
    "Insight: The 4 seasons are represented with Winter being the most frequent probably because the weather would not be condusive for walks"
   ]
  },
  {
   "cell_type": "markdown",
   "id": "f04c4c7f-72a7-4f33-b52e-c8165a0f7e28",
   "metadata": {},
   "source": [
    "\n"
   ]
  },
  {
   "cell_type": "code",
   "execution_count": 47,
   "id": "71ab374c-9a27-41e5-9b0a-5c5d3cec3bb9",
   "metadata": {},
   "outputs": [
    {
     "data": {
      "image/png": "[encoded data removed]",
      "text/plain": [
       "<Figure size 800x600 with 1 Axes>"
      ]
     },
     "metadata": {},
     "output_type": "display_data"
    }
   ],
   "source": [
    "# Distribution of Months\n",
    "# Define the order of months\n",
    "month_order = ['January', 'February', 'March', 'April', 'May', 'June', 'July', 'August', 'September', 'October', 'November', 'December']\n",
    "\n",
    "month_counts = df_cab['Month Name'].value_counts().reindex(month_order)\n",
    "month_counts.plot(kind='bar', figsize=(8, 6))\n",
    "plt.title('Travel Distribution in Months')\n",
    "plt.xticks(rotation=45)\n",
    "plt.ylabel('Number of Trips')\n",
    "plt.show()\n"
   ]
  },
  {
   "cell_type": "code",
   "execution_count": null,
   "id": "0b00894f-e8be-4157-87d2-bc217a592461",
   "metadata": {},
   "outputs": [],
   "source": []
  },
  {
   "cell_type": "code",
   "execution_count": 48,
   "id": "bf8b7eb5-d01a-4ddb-8d21-1c740f03ff94",
   "metadata": {},
   "outputs": [
    {
     "data": {
      "image/png": "[encoded data removed]",
      "text/plain": [
       "<Figure size 800x500 with 1 Axes>"
      ]
     },
     "metadata": {},
     "output_type": "display_data"
    }
   ],
   "source": [
    "# Distribution of Seasons\n",
    "df_cab['Season'].value_counts().plot(kind='bar', figsize=(8, 5))\n",
    "plt.title('Distribution of Seasons')\n",
    "plt.xlabel('Season')\n",
    "plt.ylabel('Count')\n",
    "plt.xticks(rotation=0)\n",
    "plt.show()\n"
   ]
  },
  {
   "cell_type": "markdown",
   "id": "56fbfb1b-6f78-4516-88aa-894210cf485b",
   "metadata": {},
   "source": [
    "Insight: The most frequent seasons are Winter and Autumn corresponding to the coldest seasons of the year"
   ]
  },
  {
   "cell_type": "code",
   "execution_count": null,
   "id": "713bfb2b-6e88-40e1-9373-cd92412d92b6",
   "metadata": {},
   "outputs": [],
   "source": []
  },
  {
   "cell_type": "code",
   "execution_count": 49,
   "id": "fcc0ccdc-a6c1-482e-982f-91e211c7e232",
   "metadata": {},
   "outputs": [
    {
     "data": {
      "image/png": "[encoded data removed]",
      "text/plain": [
       "<Figure size 800x500 with 1 Axes>"
      ]
     },
     "metadata": {},
     "output_type": "display_data"
    },
    {
     "data": {
      "image/png": "[encoded data removed]",
      "text/plain": [
       "<Figure size 800x500 with 1 Axes>"
      ]
     },
     "metadata": {},
     "output_type": "display_data"
    }
   ],
   "source": [
    "\n",
    "# Create a histogram for profit\n",
    "\n",
    "plt.figure(figsize=(8, 5))\n",
    "plt.hist(df_cab['Profit'], bins=30, color='skyblue')\n",
    "plt.title('Profit Distribution')\n",
    "plt.xlabel('Profit')\n",
    "plt.ylabel('Frequency')\n",
    "plt.show()\n",
    "\n",
    "# Create a histogram for profit margin\n",
    "\n",
    "plt.figure(figsize=(8, 5))\n",
    "plt.hist(df_cab['Profit Margin (%)'], bins=30, color='lightcoral')\n",
    "plt.title('Profit Margin Distribution')\n",
    "plt.xlabel('Profit Margin (%)')\n",
    "plt.ylabel('Frequency')\n",
    "plt.show()\n"
   ]
  },
  {
   "cell_type": "markdown",
   "id": "168ea629-3217-4e27-8a52-2acbdec22124",
   "metadata": {},
   "source": [
    "Insight: the profit and profit margin have the same shape of distribution. It is somewhat skewed to the right"
   ]
  },
  {
   "cell_type": "markdown",
   "id": "c68cd41c-878e-45c6-8507-3ee06b201231",
   "metadata": {},
   "source": [
    "<left><h4>Bivariate Analysis</h4></left>"
   ]
  },
  {
   "cell_type": "markdown",
   "id": "7e20427e-0ecd-4d14-996a-7e15204cabb2",
   "metadata": {},
   "source": [
    "Price Charged vs Distance Covered"
   ]
  },
  {
   "cell_type": "code",
   "execution_count": 50,
   "id": "ce790df2-abc6-483e-bbe9-e1f34dff44ea",
   "metadata": {},
   "outputs": [
    {
     "data": {
      "image/png": "[encoded data removed]",
      "text/plain": [
       "<Figure size 800x600 with 1 Axes>"
      ]
     },
     "metadata": {},
     "output_type": "display_data"
    }
   ],
   "source": [
    "# Create a scatter plot\n",
    "plt.figure(figsize=(8, 6))\n",
    "plt.scatter(df_cab['KM Travelled'], df_cab['Price Charged'], alpha=0.5)\n",
    "plt.title('Scatter Plot: Price Charged vs. Distance Covered')\n",
    "plt.xlabel('Distance Covered (KM)')\n",
    "plt.ylabel('Price Charged')\n",
    "plt.show()\n"
   ]
  },
  {
   "cell_type": "markdown",
   "id": "be1fee7e-7190-463c-875d-2866fc5f2938",
   "metadata": {},
   "source": [
    "There is an obvious positive correlation between the price charged and distance covered"
   ]
  },
  {
   "cell_type": "markdown",
   "id": "54ceeb63-01ca-4044-9b86-f39d032c2694",
   "metadata": {},
   "source": [
    "Company vs Profit"
   ]
  },
  {
   "cell_type": "code",
   "execution_count": 51,
   "id": "558014a2-5b47-4b26-a283-d514a9496308",
   "metadata": {},
   "outputs": [
    {
     "data": {
      "image/png": "[encoded data removed]",
      "text/plain": [
       "<Figure size 800x600 with 1 Axes>"
      ]
     },
     "metadata": {},
     "output_type": "display_data"
    }
   ],
   "source": [
    "# Create a bar plot with seaborn\n",
    "plt.figure(figsize=(8, 6))\n",
    "sns.barplot(x='Company', y='Profit', data=df_cab)\n",
    "plt.title('Average Profit by Company (seaborn)')\n",
    "plt.xlabel('Company')\n",
    "plt.ylabel('Profit ($)')\n",
    "plt.show()\n"
   ]
  },
  {
   "cell_type": "code",
   "execution_count": null,
   "id": "2498dd81-16de-420e-8359-87634e3ae0e2",
   "metadata": {},
   "outputs": [],
   "source": []
  },
  {
   "cell_type": "code",
   "execution_count": 52,
   "id": "7c48e5ff-1bf6-4778-bd19-36fe694649eb",
   "metadata": {},
   "outputs": [
    {
     "data": {
      "image/png": "[encoded data removed]",
      "text/plain": [
       "<Figure size 800x600 with 1 Axes>"
      ]
     },
     "metadata": {},
     "output_type": "display_data"
    }
   ],
   "source": [
    "# Calculate the total profit for each company\n",
    "total_profits = df_cab.groupby('Company')['Profit'].sum().reset_index()\n",
    "\n",
    "# Create a bar plot of total profits\n",
    "plt.figure(figsize=(8, 6))\n",
    "sns.barplot(x='Company', y='Profit', data=total_profits)\n",
    "plt.title('Total Profit by Company')\n",
    "plt.xlabel('Company')\n",
    "plt.ylabel('Total Profit')\n",
    "plt.show()\n"
   ]
  },
  {
   "cell_type": "code",
   "execution_count": 53,
   "id": "087e4113-1ac4-45ce-adef-bd2e93161995",
   "metadata": {},
   "outputs": [
    {
     "data": {
      "image/png": "[encoded data removed]",
      "text/plain": [
       "<Figure size 800x600 with 1 Axes>"
      ]
     },
     "metadata": {},
     "output_type": "display_data"
    }
   ],
   "source": [
    "# Adjust the y axis to show profit in millions\n",
    "# Calculate the total profit for each company\n",
    "total_profits = df_cab.groupby('Company')['Profit'].sum().reset_index()\n",
    "\n",
    "# Convert profits to millions\n",
    "total_profits['Profit'] /= 1e6  # Divide by 1,000,000 to get values in millions\n",
    "\n",
    "# Create a bar plot of total profits\n",
    "plt.figure(figsize=(8, 6))\n",
    "sns.barplot(x='Company', y='Profit', data=total_profits)\n",
    "plt.title('Total Profit by Company')\n",
    "plt.xlabel('Company')\n",
    "plt.ylabel('Profit ($ million)')\n",
    "plt.show()\n"
   ]
  },
  {
   "cell_type": "markdown",
   "id": "74e3a942-a59b-4690-a2a2-4f89d4a4248f",
   "metadata": {},
   "source": [
    "```markdown\n",
    "Insight: The Yellow Cab company made about $45 million compared to the Pink Cab that made just about $5 million.\n"
   ]
  },
  {
   "cell_type": "code",
   "execution_count": 54,
   "id": "191b9f29-009b-4765-b326-0db789e92a4b",
   "metadata": {},
   "outputs": [
    {
     "data": {
      "image/png": "[encoded data removed]",
      "text/plain": [
       "<Figure size 800x600 with 1 Axes>"
      ]
     },
     "metadata": {},
     "output_type": "display_data"
    }
   ],
   "source": [
    "# Calculate the total cost, total profit, and profit margin for each company\n",
    "company_totals = df_cab.groupby('Company')[['Cost of Trip', 'Profit']].sum().reset_index()\n",
    "\n",
    "# Calculate the profit margin (%) for each company\n",
    "company_totals['Profit Margin (%)'] = (company_totals['Profit'] / company_totals['Cost of Trip']) * 100\n",
    "\n",
    "# Create a bar plot to compare profit margins of Pink Cab and Yellow Cab\n",
    "plt.figure(figsize=(8, 6))\n",
    "sns.barplot(x='Company', y='Profit Margin (%)', data=company_totals)\n",
    "plt.title('Profit Margin Comparison')\n",
    "plt.xlabel('Company')\n",
    "plt.ylabel('Profit Margin (%)')\n",
    "plt.show()\n"
   ]
  },
  {
   "cell_type": "markdown",
   "id": "ffd89bfa-6a1c-4adc-a756-ad467bf2e5fd",
   "metadata": {},
   "source": [
    "Insight: Pink Cab has a profit margin of around 25% while Yellow cab has a profit margin of above 50%. This means that Yellow cab would give over 50% returns which is wawy hihger than for Pink Cab."
   ]
  },
  {
   "cell_type": "code",
   "execution_count": 55,
   "id": "fc8678e7-1e97-46e0-98c6-8acbe1beef5b",
   "metadata": {},
   "outputs": [
    {
     "data": {
      "image/png": "[encoded data removed]",
      "text/plain": [
       "<Figure size 1000x600 with 1 Axes>"
      ]
     },
     "metadata": {},
     "output_type": "display_data"
    }
   ],
   "source": [
    "# Calculate the profit margin for each company and season\n",
    "company_season_totals = df_cab.groupby(['Company', 'Season'])[['Profit', 'Cost of Trip']].sum().reset_index()\n",
    "\n",
    "# Calculate the profit margin (%) for each company and season\n",
    "company_season_totals['Profit Margin (%)'] = (company_season_totals['Profit'] / \n",
    "                                               company_season_totals.groupby('Company')['Cost of Trip'].transform('sum')) * 100\n",
    "\n",
    "# Create a grouped bar plot to compare profit margins by company and season\n",
    "plt.figure(figsize=(10, 6))\n",
    "sns.barplot(x='Season', y='Profit Margin (%)', hue='Company', data=company_season_totals)\n",
    "plt.title('Profit Margin Comparison by Company and Season')\n",
    "plt.xlabel('Season')\n",
    "plt.ylabel('Profit Margin (%)')\n",
    "plt.legend(title='Company', title_fontsize='12', loc='upper center')\n",
    "plt.show()\n"
   ]
  },
  {
   "cell_type": "markdown",
   "id": "7d5e9805-e879-4aff-9ed1-74700a8ff1ee",
   "metadata": {},
   "source": [
    "Insight: The yellow Cab consistently outperforms the Pink Cab across all seasons. The margin is widest in warmer seasons - summer and spring."
   ]
  },
  {
   "cell_type": "markdown",
   "id": "17336fdf-17d2-482b-82a4-0047b6a1c7ed",
   "metadata": {},
   "source": [
    "<left><h3>City_Data Analysis</h3></left>"
   ]
  },
  {
   "cell_type": "code",
   "execution_count": 56,
   "id": "cadd3cfb-df3a-42c1-8662-3057c8279bc6",
   "metadata": {},
   "outputs": [
    {
     "data": {
      "text/html": [
       "<div>\n",
       "<style scoped>\n",
       "    .dataframe tbody tr th:only-of-type {\n",
       "        vertical-align: middle;\n",
       "    }\n",
       "\n",
       "    .dataframe tbody tr th {\n",
       "        vertical-align: top;\n",
       "    }\n",
       "\n",
       "    .dataframe thead th {\n",
       "        text-align: right;\n",
       "    }\n",
       "</style>\n",
       "<table border=\"1\" class=\"dataframe\">\n",
       "  <thead>\n",
       "    <tr style=\"text-align: right;\">\n",
       "      <th></th>\n",
       "      <th>City</th>\n",
       "      <th>Population</th>\n",
       "      <th>Users</th>\n",
       "    </tr>\n",
       "  </thead>\n",
       "  <tbody>\n",
       "    <tr>\n",
       "      <th>0</th>\n",
       "      <td>NEW YORK NY</td>\n",
       "      <td>8,405,837</td>\n",
       "      <td>302,149</td>\n",
       "    </tr>\n",
       "    <tr>\n",
       "      <th>1</th>\n",
       "      <td>CHICAGO IL</td>\n",
       "      <td>1,955,130</td>\n",
       "      <td>164,468</td>\n",
       "    </tr>\n",
       "    <tr>\n",
       "      <th>2</th>\n",
       "      <td>LOS ANGELES CA</td>\n",
       "      <td>1,595,037</td>\n",
       "      <td>144,132</td>\n",
       "    </tr>\n",
       "    <tr>\n",
       "      <th>3</th>\n",
       "      <td>MIAMI FL</td>\n",
       "      <td>1,339,155</td>\n",
       "      <td>17,675</td>\n",
       "    </tr>\n",
       "    <tr>\n",
       "      <th>4</th>\n",
       "      <td>SILICON VALLEY</td>\n",
       "      <td>1,177,609</td>\n",
       "      <td>27,247</td>\n",
       "    </tr>\n",
       "  </tbody>\n",
       "</table>\n",
       "</div>"
      ],
      "text/plain": [
       "             City   Population      Users\n",
       "0     NEW YORK NY   8,405,837    302,149 \n",
       "1      CHICAGO IL   1,955,130    164,468 \n",
       "2  LOS ANGELES CA   1,595,037    144,132 \n",
       "3        MIAMI FL   1,339,155     17,675 \n",
       "4  SILICON VALLEY   1,177,609     27,247 "
      ]
     },
     "execution_count": 56,
     "metadata": {},
     "output_type": "execute_result"
    }
   ],
   "source": [
    "df_city.head()"
   ]
  },
  {
   "cell_type": "code",
   "execution_count": 57,
   "id": "2eb5b73e-9c47-429c-b56c-1a8a9236955e",
   "metadata": {},
   "outputs": [
    {
     "data": {
      "text/html": [
       "<div>\n",
       "<style scoped>\n",
       "    .dataframe tbody tr th:only-of-type {\n",
       "        vertical-align: middle;\n",
       "    }\n",
       "\n",
       "    .dataframe tbody tr th {\n",
       "        vertical-align: top;\n",
       "    }\n",
       "\n",
       "    .dataframe thead th {\n",
       "        text-align: right;\n",
       "    }\n",
       "</style>\n",
       "<table border=\"1\" class=\"dataframe\">\n",
       "  <thead>\n",
       "    <tr style=\"text-align: right;\">\n",
       "      <th></th>\n",
       "      <th>City</th>\n",
       "      <th>Population</th>\n",
       "      <th>Users</th>\n",
       "    </tr>\n",
       "  </thead>\n",
       "  <tbody>\n",
       "    <tr>\n",
       "      <th>count</th>\n",
       "      <td>20</td>\n",
       "      <td>20</td>\n",
       "      <td>20</td>\n",
       "    </tr>\n",
       "    <tr>\n",
       "      <th>unique</th>\n",
       "      <td>20</td>\n",
       "      <td>20</td>\n",
       "      <td>20</td>\n",
       "    </tr>\n",
       "    <tr>\n",
       "      <th>top</th>\n",
       "      <td>NEW YORK NY</td>\n",
       "      <td>8,405,837</td>\n",
       "      <td>302,149</td>\n",
       "    </tr>\n",
       "    <tr>\n",
       "      <th>freq</th>\n",
       "      <td>1</td>\n",
       "      <td>1</td>\n",
       "      <td>1</td>\n",
       "    </tr>\n",
       "  </tbody>\n",
       "</table>\n",
       "</div>"
      ],
      "text/plain": [
       "               City   Population      Users\n",
       "count            20           20         20\n",
       "unique           20           20         20\n",
       "top     NEW YORK NY   8,405,837    302,149 \n",
       "freq              1            1          1"
      ]
     },
     "execution_count": 57,
     "metadata": {},
     "output_type": "execute_result"
    }
   ],
   "source": [
    "df_city.describe()"
   ]
  },
  {
   "cell_type": "markdown",
   "id": "b3ce3efa-1a84-40cb-8c3a-65ce5c10a673",
   "metadata": {},
   "source": [
    "Insight: Yew York NY is the city with the highest population  and highest number of cab users"
   ]
  },
  {
   "cell_type": "markdown",
   "id": "ff9d7e32-3135-4304-8fcb-83957e3cabac",
   "metadata": {},
   "source": [
    "\n"
   ]
  },
  {
   "cell_type": "markdown",
   "id": "d47d2b85-067f-4634-8882-5edce7217862",
   "metadata": {},
   "source": [
    "<left><h3>Customer_Data Analysis</h3></left>"
   ]
  },
  {
   "cell_type": "code",
   "execution_count": 58,
   "id": "2c94d096-3438-466d-8be2-1abd2a37240d",
   "metadata": {},
   "outputs": [
    {
     "data": {
      "text/html": [
       "<div>\n",
       "<style scoped>\n",
       "    .dataframe tbody tr th:only-of-type {\n",
       "        vertical-align: middle;\n",
       "    }\n",
       "\n",
       "    .dataframe tbody tr th {\n",
       "        vertical-align: top;\n",
       "    }\n",
       "\n",
       "    .dataframe thead th {\n",
       "        text-align: right;\n",
       "    }\n",
       "</style>\n",
       "<table border=\"1\" class=\"dataframe\">\n",
       "  <thead>\n",
       "    <tr style=\"text-align: right;\">\n",
       "      <th></th>\n",
       "      <th>Customer ID</th>\n",
       "      <th>Gender</th>\n",
       "      <th>Age</th>\n",
       "      <th>Income (USD/Month)</th>\n",
       "    </tr>\n",
       "  </thead>\n",
       "  <tbody>\n",
       "    <tr>\n",
       "      <th>0</th>\n",
       "      <td>29290</td>\n",
       "      <td>Male</td>\n",
       "      <td>28</td>\n",
       "      <td>10813</td>\n",
       "    </tr>\n",
       "    <tr>\n",
       "      <th>1</th>\n",
       "      <td>27703</td>\n",
       "      <td>Male</td>\n",
       "      <td>27</td>\n",
       "      <td>9237</td>\n",
       "    </tr>\n",
       "    <tr>\n",
       "      <th>2</th>\n",
       "      <td>28712</td>\n",
       "      <td>Male</td>\n",
       "      <td>53</td>\n",
       "      <td>11242</td>\n",
       "    </tr>\n",
       "    <tr>\n",
       "      <th>3</th>\n",
       "      <td>28020</td>\n",
       "      <td>Male</td>\n",
       "      <td>23</td>\n",
       "      <td>23327</td>\n",
       "    </tr>\n",
       "    <tr>\n",
       "      <th>4</th>\n",
       "      <td>27182</td>\n",
       "      <td>Male</td>\n",
       "      <td>33</td>\n",
       "      <td>8536</td>\n",
       "    </tr>\n",
       "  </tbody>\n",
       "</table>\n",
       "</div>"
      ],
      "text/plain": [
       "   Customer ID Gender  Age  Income (USD/Month)\n",
       "0        29290   Male   28               10813\n",
       "1        27703   Male   27                9237\n",
       "2        28712   Male   53               11242\n",
       "3        28020   Male   23               23327\n",
       "4        27182   Male   33                8536"
      ]
     },
     "execution_count": 58,
     "metadata": {},
     "output_type": "execute_result"
    }
   ],
   "source": [
    "df_customer.head()"
   ]
  },
  {
   "cell_type": "code",
   "execution_count": 59,
   "id": "99445c83-7140-44af-aeb5-89646519bb9a",
   "metadata": {},
   "outputs": [
    {
     "data": {
      "text/plain": [
       "Customer ID           0\n",
       "Gender                0\n",
       "Age                   0\n",
       "Income (USD/Month)    0\n",
       "dtype: int64"
      ]
     },
     "execution_count": 59,
     "metadata": {},
     "output_type": "execute_result"
    }
   ],
   "source": [
    "#Check for missing values\n",
    "df_customer.isna().sum()"
   ]
  },
  {
   "cell_type": "code",
   "execution_count": 60,
   "id": "c208dbba-d2d9-496c-a425-1bb2f5817862",
   "metadata": {},
   "outputs": [
    {
     "name": "stdout",
     "output_type": "stream",
     "text": [
      "The entries in 'Customer ID' are unique.\n"
     ]
    }
   ],
   "source": [
    "#Confirm uniqueness of customer id\n",
    "is_unique = not df_customer['Customer ID'].duplicated().any()\n",
    "\n",
    "if is_unique:\n",
    "    print(f\"The entries in 'Customer ID' are unique.\")\n",
    "else:\n",
    "    print(f\"The entries in 'Customer ID' are not unique.\")\n"
   ]
  },
  {
   "cell_type": "code",
   "execution_count": 61,
   "id": "ca372009-2a6f-49ee-a62c-69cb36c049b7",
   "metadata": {},
   "outputs": [
    {
     "data": {
      "image/png": "[encoded data removed]",
      "text/plain": [
       "<Figure size 800x600 with 1 Axes>"
      ]
     },
     "metadata": {},
     "output_type": "display_data"
    }
   ],
   "source": [
    "\n",
    "# Group the data by Gender and calculate the mean income for each group\n",
    "gender_income = df_customer.groupby('Gender')['Income (USD/Month)'].mean()\n",
    "\n",
    "# Create a bar plot for Gender vs. Income\n",
    "plt.figure(figsize=(8, 6))\n",
    "gender_income.plot(kind='bar', color='red', alpha=0.7)\n",
    "plt.title('Gender vs. Income')\n",
    "plt.xlabel('Gender')\n",
    "plt.ylabel('Average Income (USD/Month)')\n",
    "plt.xticks(rotation=0)\n",
    "plt.grid(axis='y')\n",
    "plt.show()\n",
    "\n"
   ]
  },
  {
   "cell_type": "markdown",
   "id": "7faf6cdf-0059-42df-82d6-811051a1f255",
   "metadata": {},
   "source": [
    "Insight: Both genders have similar "
   ]
  },
  {
   "cell_type": "code",
   "execution_count": null,
   "id": "25e0e4a5-64de-4162-ae0e-daaec685b752",
   "metadata": {},
   "outputs": [],
   "source": []
  },
  {
   "cell_type": "markdown",
   "id": "67399bf0-7d4b-4abe-87b4-5d8b7a48f84e",
   "metadata": {},
   "source": [
    "<left><h3>Transaction_Data Analysis</h3></left>"
   ]
  },
  {
   "cell_type": "code",
   "execution_count": 62,
   "id": "8868a1c5-9179-4cf8-ba5a-dc6a84af5fc2",
   "metadata": {},
   "outputs": [
    {
     "data": {
      "text/html": [
       "<div>\n",
       "<style scoped>\n",
       "    .dataframe tbody tr th:only-of-type {\n",
       "        vertical-align: middle;\n",
       "    }\n",
       "\n",
       "    .dataframe tbody tr th {\n",
       "        vertical-align: top;\n",
       "    }\n",
       "\n",
       "    .dataframe thead th {\n",
       "        text-align: right;\n",
       "    }\n",
       "</style>\n",
       "<table border=\"1\" class=\"dataframe\">\n",
       "  <thead>\n",
       "    <tr style=\"text-align: right;\">\n",
       "      <th></th>\n",
       "      <th>Transaction ID</th>\n",
       "      <th>Customer ID</th>\n",
       "      <th>Payment_Mode</th>\n",
       "    </tr>\n",
       "  </thead>\n",
       "  <tbody>\n",
       "    <tr>\n",
       "      <th>0</th>\n",
       "      <td>10000011</td>\n",
       "      <td>29290</td>\n",
       "      <td>Card</td>\n",
       "    </tr>\n",
       "    <tr>\n",
       "      <th>1</th>\n",
       "      <td>10000012</td>\n",
       "      <td>27703</td>\n",
       "      <td>Card</td>\n",
       "    </tr>\n",
       "    <tr>\n",
       "      <th>2</th>\n",
       "      <td>10000013</td>\n",
       "      <td>28712</td>\n",
       "      <td>Cash</td>\n",
       "    </tr>\n",
       "    <tr>\n",
       "      <th>3</th>\n",
       "      <td>10000014</td>\n",
       "      <td>28020</td>\n",
       "      <td>Cash</td>\n",
       "    </tr>\n",
       "    <tr>\n",
       "      <th>4</th>\n",
       "      <td>10000015</td>\n",
       "      <td>27182</td>\n",
       "      <td>Card</td>\n",
       "    </tr>\n",
       "  </tbody>\n",
       "</table>\n",
       "</div>"
      ],
      "text/plain": [
       "   Transaction ID  Customer ID Payment_Mode\n",
       "0        10000011        29290         Card\n",
       "1        10000012        27703         Card\n",
       "2        10000013        28712         Cash\n",
       "3        10000014        28020         Cash\n",
       "4        10000015        27182         Card"
      ]
     },
     "execution_count": 62,
     "metadata": {},
     "output_type": "execute_result"
    }
   ],
   "source": [
    "df_transaction.head()"
   ]
  },
  {
   "cell_type": "code",
   "execution_count": 63,
   "id": "c6595731-caba-4d9e-a168-f664c37fe342",
   "metadata": {},
   "outputs": [
    {
     "data": {
      "text/html": [
       "<div>\n",
       "<style scoped>\n",
       "    .dataframe tbody tr th:only-of-type {\n",
       "        vertical-align: middle;\n",
       "    }\n",
       "\n",
       "    .dataframe tbody tr th {\n",
       "        vertical-align: top;\n",
       "    }\n",
       "\n",
       "    .dataframe thead th {\n",
       "        text-align: right;\n",
       "    }\n",
       "</style>\n",
       "<table border=\"1\" class=\"dataframe\">\n",
       "  <thead>\n",
       "    <tr style=\"text-align: right;\">\n",
       "      <th></th>\n",
       "      <th>Transaction ID</th>\n",
       "      <th>Customer ID</th>\n",
       "    </tr>\n",
       "  </thead>\n",
       "  <tbody>\n",
       "    <tr>\n",
       "      <th>count</th>\n",
       "      <td>4.400980e+05</td>\n",
       "      <td>440098.000000</td>\n",
       "    </tr>\n",
       "    <tr>\n",
       "      <th>mean</th>\n",
       "      <td>1.022006e+07</td>\n",
       "      <td>23619.513120</td>\n",
       "    </tr>\n",
       "    <tr>\n",
       "      <th>std</th>\n",
       "      <td>1.270455e+05</td>\n",
       "      <td>21195.549816</td>\n",
       "    </tr>\n",
       "    <tr>\n",
       "      <th>min</th>\n",
       "      <td>1.000001e+07</td>\n",
       "      <td>1.000000</td>\n",
       "    </tr>\n",
       "    <tr>\n",
       "      <th>25%</th>\n",
       "      <td>1.011004e+07</td>\n",
       "      <td>3530.000000</td>\n",
       "    </tr>\n",
       "    <tr>\n",
       "      <th>50%</th>\n",
       "      <td>1.022006e+07</td>\n",
       "      <td>15168.000000</td>\n",
       "    </tr>\n",
       "    <tr>\n",
       "      <th>75%</th>\n",
       "      <td>1.033008e+07</td>\n",
       "      <td>43884.000000</td>\n",
       "    </tr>\n",
       "    <tr>\n",
       "      <th>max</th>\n",
       "      <td>1.044011e+07</td>\n",
       "      <td>60000.000000</td>\n",
       "    </tr>\n",
       "  </tbody>\n",
       "</table>\n",
       "</div>"
      ],
      "text/plain": [
       "       Transaction ID    Customer ID\n",
       "count    4.400980e+05  440098.000000\n",
       "mean     1.022006e+07   23619.513120\n",
       "std      1.270455e+05   21195.549816\n",
       "min      1.000001e+07       1.000000\n",
       "25%      1.011004e+07    3530.000000\n",
       "50%      1.022006e+07   15168.000000\n",
       "75%      1.033008e+07   43884.000000\n",
       "max      1.044011e+07   60000.000000"
      ]
     },
     "execution_count": 63,
     "metadata": {},
     "output_type": "execute_result"
    }
   ],
   "source": [
    "df_transaction.describe()"
   ]
  },
  {
   "cell_type": "code",
   "execution_count": 64,
   "id": "91e0412e-f6c9-4943-92eb-a9085597da3f",
   "metadata": {},
   "outputs": [
    {
     "name": "stdout",
     "output_type": "stream",
     "text": [
      "Number of unique entries in 'Transaction ID': 440098\n"
     ]
    }
   ],
   "source": [
    "\n",
    "unique_df_transaction = df_transaction['Transaction ID'].nunique()\n",
    "print(f\"Number of unique entries in 'Transaction ID': {unique_df_transaction}\")\n"
   ]
  },
  {
   "cell_type": "markdown",
   "id": "d1950ea2-cda0-46f1-afc3-8b6e2795ee74",
   "metadata": {},
   "source": [
    "Insight: The number of unique transaction IDs is more here than in the df_cab dataset. This will impact joining the datasets"
   ]
  },
  {
   "cell_type": "code",
   "execution_count": 65,
   "id": "20fb9d46-2549-4657-8aeb-c1133f1e9b85",
   "metadata": {},
   "outputs": [
    {
     "name": "stdout",
     "output_type": "stream",
     "text": [
      "Number of unique entries in 'Customer ID': 49171\n"
     ]
    }
   ],
   "source": [
    "unique_df_cust_id = df_transaction['Customer ID'].nunique()\n",
    "print(f\"Number of unique entries in 'Customer ID': {unique_df_cust_id}\")"
   ]
  },
  {
   "cell_type": "markdown",
   "id": "c9988252-16fc-4bd1-a870-4cb5536de118",
   "metadata": {},
   "source": [
    "Insight: This is less than the number of unique transaction IDs which suggests some repeat customers"
   ]
  },
  {
   "cell_type": "code",
   "execution_count": 66,
   "id": "f2f32361-2dca-4f28-8695-97c61a00fb20",
   "metadata": {},
   "outputs": [
    {
     "data": {
      "text/plain": [
       "Transaction ID    0\n",
       "Customer ID       0\n",
       "Payment_Mode      0\n",
       "dtype: int64"
      ]
     },
     "execution_count": 66,
     "metadata": {},
     "output_type": "execute_result"
    }
   ],
   "source": [
    "#Check for missing values\n",
    "df_transaction.isna().sum()"
   ]
  },
  {
   "cell_type": "code",
   "execution_count": null,
   "id": "87c8ccfb-95f5-4849-b332-de0adecdd407",
   "metadata": {},
   "outputs": [],
   "source": []
  },
  {
   "cell_type": "markdown",
   "id": "486eb96e-302e-462b-aeed-6ca839d2192a",
   "metadata": {},
   "source": [
    "<left><h2>Creating a Master Dataset</h2></left>"
   ]
  },
  {
   "cell_type": "code",
   "execution_count": 67,
   "id": "74fa2af2-e154-4656-8709-6f5ab5b08cb0",
   "metadata": {},
   "outputs": [
    {
     "data": {
      "text/html": [
       "<div>\n",
       "<style scoped>\n",
       "    .dataframe tbody tr th:only-of-type {\n",
       "        vertical-align: middle;\n",
       "    }\n",
       "\n",
       "    .dataframe tbody tr th {\n",
       "        vertical-align: top;\n",
       "    }\n",
       "\n",
       "    .dataframe thead th {\n",
       "        text-align: right;\n",
       "    }\n",
       "</style>\n",
       "<table border=\"1\" class=\"dataframe\">\n",
       "  <thead>\n",
       "    <tr style=\"text-align: right;\">\n",
       "      <th></th>\n",
       "      <th>Transaction ID</th>\n",
       "      <th>Date of Travel</th>\n",
       "      <th>Company</th>\n",
       "      <th>City</th>\n",
       "      <th>KM Travelled</th>\n",
       "      <th>Price Charged</th>\n",
       "      <th>Cost of Trip</th>\n",
       "      <th>Day of Travel</th>\n",
       "      <th>Month</th>\n",
       "      <th>Month Name</th>\n",
       "      <th>Season</th>\n",
       "      <th>Profit</th>\n",
       "      <th>Profit Margin (%)</th>\n",
       "    </tr>\n",
       "  </thead>\n",
       "  <tbody>\n",
       "    <tr>\n",
       "      <th>0</th>\n",
       "      <td>10000011</td>\n",
       "      <td>42377</td>\n",
       "      <td>Pink Cab</td>\n",
       "      <td>ATLANTA GA</td>\n",
       "      <td>30.45</td>\n",
       "      <td>370.95</td>\n",
       "      <td>313.635</td>\n",
       "      <td>2016-02-09</td>\n",
       "      <td>2</td>\n",
       "      <td>February</td>\n",
       "      <td>Winter</td>\n",
       "      <td>57.315</td>\n",
       "      <td>18.274427</td>\n",
       "    </tr>\n",
       "    <tr>\n",
       "      <th>1</th>\n",
       "      <td>10000012</td>\n",
       "      <td>42375</td>\n",
       "      <td>Pink Cab</td>\n",
       "      <td>ATLANTA GA</td>\n",
       "      <td>28.62</td>\n",
       "      <td>358.52</td>\n",
       "      <td>334.854</td>\n",
       "      <td>2016-02-07</td>\n",
       "      <td>2</td>\n",
       "      <td>February</td>\n",
       "      <td>Winter</td>\n",
       "      <td>23.666</td>\n",
       "      <td>7.067558</td>\n",
       "    </tr>\n",
       "    <tr>\n",
       "      <th>2</th>\n",
       "      <td>10000013</td>\n",
       "      <td>42371</td>\n",
       "      <td>Pink Cab</td>\n",
       "      <td>ATLANTA GA</td>\n",
       "      <td>9.04</td>\n",
       "      <td>125.20</td>\n",
       "      <td>97.632</td>\n",
       "      <td>2016-02-03</td>\n",
       "      <td>2</td>\n",
       "      <td>February</td>\n",
       "      <td>Winter</td>\n",
       "      <td>27.568</td>\n",
       "      <td>28.236644</td>\n",
       "    </tr>\n",
       "    <tr>\n",
       "      <th>3</th>\n",
       "      <td>10000014</td>\n",
       "      <td>42376</td>\n",
       "      <td>Pink Cab</td>\n",
       "      <td>ATLANTA GA</td>\n",
       "      <td>33.17</td>\n",
       "      <td>377.40</td>\n",
       "      <td>351.602</td>\n",
       "      <td>2016-02-08</td>\n",
       "      <td>2</td>\n",
       "      <td>February</td>\n",
       "      <td>Winter</td>\n",
       "      <td>25.798</td>\n",
       "      <td>7.337273</td>\n",
       "    </tr>\n",
       "    <tr>\n",
       "      <th>4</th>\n",
       "      <td>10000015</td>\n",
       "      <td>42372</td>\n",
       "      <td>Pink Cab</td>\n",
       "      <td>ATLANTA GA</td>\n",
       "      <td>8.73</td>\n",
       "      <td>114.62</td>\n",
       "      <td>97.776</td>\n",
       "      <td>2016-02-04</td>\n",
       "      <td>2</td>\n",
       "      <td>February</td>\n",
       "      <td>Winter</td>\n",
       "      <td>16.844</td>\n",
       "      <td>17.227131</td>\n",
       "    </tr>\n",
       "  </tbody>\n",
       "</table>\n",
       "</div>"
      ],
      "text/plain": [
       "   Transaction ID  Date of Travel   Company        City  KM Travelled   \n",
       "0        10000011           42377  Pink Cab  ATLANTA GA         30.45  \\\n",
       "1        10000012           42375  Pink Cab  ATLANTA GA         28.62   \n",
       "2        10000013           42371  Pink Cab  ATLANTA GA          9.04   \n",
       "3        10000014           42376  Pink Cab  ATLANTA GA         33.17   \n",
       "4        10000015           42372  Pink Cab  ATLANTA GA          8.73   \n",
       "\n",
       "   Price Charged  Cost of Trip Day of Travel  Month Month Name  Season   \n",
       "0         370.95       313.635    2016-02-09      2   February  Winter  \\\n",
       "1         358.52       334.854    2016-02-07      2   February  Winter   \n",
       "2         125.20        97.632    2016-02-03      2   February  Winter   \n",
       "3         377.40       351.602    2016-02-08      2   February  Winter   \n",
       "4         114.62        97.776    2016-02-04      2   February  Winter   \n",
       "\n",
       "   Profit  Profit Margin (%)  \n",
       "0  57.315          18.274427  \n",
       "1  23.666           7.067558  \n",
       "2  27.568          28.236644  \n",
       "3  25.798           7.337273  \n",
       "4  16.844          17.227131  "
      ]
     },
     "execution_count": 67,
     "metadata": {},
     "output_type": "execute_result"
    }
   ],
   "source": [
    "df_cab.head()"
   ]
  },
  {
   "cell_type": "code",
   "execution_count": 68,
   "id": "285eb1cc-8a92-48c3-b52f-018b94aee457",
   "metadata": {},
   "outputs": [],
   "source": [
    "# drop features - date of travel, price charged and cost of trip\n",
    "\n",
    "columns_to_drop = ['Date of Travel', 'Cost of Trip', 'Price Charged']\n",
    "\n",
    "# Drop the specified columns from the DataFrame\n",
    "\n",
    "df_cab.drop(columns=columns_to_drop, inplace=True)\n",
    "\n"
   ]
  },
  {
   "cell_type": "code",
   "execution_count": 69,
   "id": "7afd17b6-40dd-41da-8cf3-d6e5ddd1b60f",
   "metadata": {},
   "outputs": [
    {
     "data": {
      "text/html": [
       "<div>\n",
       "<style scoped>\n",
       "    .dataframe tbody tr th:only-of-type {\n",
       "        vertical-align: middle;\n",
       "    }\n",
       "\n",
       "    .dataframe tbody tr th {\n",
       "        vertical-align: top;\n",
       "    }\n",
       "\n",
       "    .dataframe thead th {\n",
       "        text-align: right;\n",
       "    }\n",
       "</style>\n",
       "<table border=\"1\" class=\"dataframe\">\n",
       "  <thead>\n",
       "    <tr style=\"text-align: right;\">\n",
       "      <th></th>\n",
       "      <th>Transaction ID</th>\n",
       "      <th>Company</th>\n",
       "      <th>City</th>\n",
       "      <th>KM Travelled</th>\n",
       "      <th>Day of Travel</th>\n",
       "      <th>Month</th>\n",
       "      <th>Month Name</th>\n",
       "      <th>Season</th>\n",
       "      <th>Profit</th>\n",
       "      <th>Profit Margin (%)</th>\n",
       "    </tr>\n",
       "  </thead>\n",
       "  <tbody>\n",
       "    <tr>\n",
       "      <th>0</th>\n",
       "      <td>10000011</td>\n",
       "      <td>Pink Cab</td>\n",
       "      <td>ATLANTA GA</td>\n",
       "      <td>30.45</td>\n",
       "      <td>2016-02-09</td>\n",
       "      <td>2</td>\n",
       "      <td>February</td>\n",
       "      <td>Winter</td>\n",
       "      <td>57.315</td>\n",
       "      <td>18.274427</td>\n",
       "    </tr>\n",
       "    <tr>\n",
       "      <th>1</th>\n",
       "      <td>10000012</td>\n",
       "      <td>Pink Cab</td>\n",
       "      <td>ATLANTA GA</td>\n",
       "      <td>28.62</td>\n",
       "      <td>2016-02-07</td>\n",
       "      <td>2</td>\n",
       "      <td>February</td>\n",
       "      <td>Winter</td>\n",
       "      <td>23.666</td>\n",
       "      <td>7.067558</td>\n",
       "    </tr>\n",
       "    <tr>\n",
       "      <th>2</th>\n",
       "      <td>10000013</td>\n",
       "      <td>Pink Cab</td>\n",
       "      <td>ATLANTA GA</td>\n",
       "      <td>9.04</td>\n",
       "      <td>2016-02-03</td>\n",
       "      <td>2</td>\n",
       "      <td>February</td>\n",
       "      <td>Winter</td>\n",
       "      <td>27.568</td>\n",
       "      <td>28.236644</td>\n",
       "    </tr>\n",
       "    <tr>\n",
       "      <th>3</th>\n",
       "      <td>10000014</td>\n",
       "      <td>Pink Cab</td>\n",
       "      <td>ATLANTA GA</td>\n",
       "      <td>33.17</td>\n",
       "      <td>2016-02-08</td>\n",
       "      <td>2</td>\n",
       "      <td>February</td>\n",
       "      <td>Winter</td>\n",
       "      <td>25.798</td>\n",
       "      <td>7.337273</td>\n",
       "    </tr>\n",
       "    <tr>\n",
       "      <th>4</th>\n",
       "      <td>10000015</td>\n",
       "      <td>Pink Cab</td>\n",
       "      <td>ATLANTA GA</td>\n",
       "      <td>8.73</td>\n",
       "      <td>2016-02-04</td>\n",
       "      <td>2</td>\n",
       "      <td>February</td>\n",
       "      <td>Winter</td>\n",
       "      <td>16.844</td>\n",
       "      <td>17.227131</td>\n",
       "    </tr>\n",
       "  </tbody>\n",
       "</table>\n",
       "</div>"
      ],
      "text/plain": [
       "   Transaction ID   Company        City  KM Travelled Day of Travel  Month   \n",
       "0        10000011  Pink Cab  ATLANTA GA         30.45    2016-02-09      2  \\\n",
       "1        10000012  Pink Cab  ATLANTA GA         28.62    2016-02-07      2   \n",
       "2        10000013  Pink Cab  ATLANTA GA          9.04    2016-02-03      2   \n",
       "3        10000014  Pink Cab  ATLANTA GA         33.17    2016-02-08      2   \n",
       "4        10000015  Pink Cab  ATLANTA GA          8.73    2016-02-04      2   \n",
       "\n",
       "  Month Name  Season  Profit  Profit Margin (%)  \n",
       "0   February  Winter  57.315          18.274427  \n",
       "1   February  Winter  23.666           7.067558  \n",
       "2   February  Winter  27.568          28.236644  \n",
       "3   February  Winter  25.798           7.337273  \n",
       "4   February  Winter  16.844          17.227131  "
      ]
     },
     "execution_count": 69,
     "metadata": {},
     "output_type": "execute_result"
    }
   ],
   "source": [
    "# Verify the columns have been dropped\n",
    "df_cab.head()"
   ]
  },
  {
   "cell_type": "code",
   "execution_count": 70,
   "id": "f5bedef8-1dae-4b06-8620-c7d6957034b6",
   "metadata": {},
   "outputs": [],
   "source": [
    "# Merge the df_cab, df_city, df_customer and df_transaction datyasets\n",
    "# Merge the cab dataset with the transaction dataset using a left join\n",
    "master_dataset = df_cab.merge(df_transaction, on='Transaction ID', how='left')\n",
    "\n",
    "# Merge the master dataset with the city dataset using a left join\n",
    "master_dataset = master_dataset.merge(df_city, on='City', how='left')\n",
    "\n",
    "# Merge the master dataset with the customer dataset using a left join\n",
    "master_dataset = master_dataset.merge(df_customer, on='Customer ID', how='left')\n",
    "\n",
    "\n"
   ]
  },
  {
   "cell_type": "code",
   "execution_count": 71,
   "id": "a37c84d5-f589-40b9-a26f-04723acb2de7",
   "metadata": {},
   "outputs": [
    {
     "data": {
      "text/html": [
       "<div>\n",
       "<style scoped>\n",
       "    .dataframe tbody tr th:only-of-type {\n",
       "        vertical-align: middle;\n",
       "    }\n",
       "\n",
       "    .dataframe tbody tr th {\n",
       "        vertical-align: top;\n",
       "    }\n",
       "\n",
       "    .dataframe thead th {\n",
       "        text-align: right;\n",
       "    }\n",
       "</style>\n",
       "<table border=\"1\" class=\"dataframe\">\n",
       "  <thead>\n",
       "    <tr style=\"text-align: right;\">\n",
       "      <th></th>\n",
       "      <th>Transaction ID</th>\n",
       "      <th>Company</th>\n",
       "      <th>City</th>\n",
       "      <th>KM Travelled</th>\n",
       "      <th>Day of Travel</th>\n",
       "      <th>Month</th>\n",
       "      <th>Month Name</th>\n",
       "      <th>Season</th>\n",
       "      <th>Profit</th>\n",
       "      <th>Profit Margin (%)</th>\n",
       "      <th>Customer ID</th>\n",
       "      <th>Payment_Mode</th>\n",
       "      <th>Population</th>\n",
       "      <th>Users</th>\n",
       "      <th>Gender</th>\n",
       "      <th>Age</th>\n",
       "      <th>Income (USD/Month)</th>\n",
       "    </tr>\n",
       "  </thead>\n",
       "  <tbody>\n",
       "    <tr>\n",
       "      <th>0</th>\n",
       "      <td>10000011</td>\n",
       "      <td>Pink Cab</td>\n",
       "      <td>ATLANTA GA</td>\n",
       "      <td>30.45</td>\n",
       "      <td>2016-02-09</td>\n",
       "      <td>2</td>\n",
       "      <td>February</td>\n",
       "      <td>Winter</td>\n",
       "      <td>57.315</td>\n",
       "      <td>18.274427</td>\n",
       "      <td>29290</td>\n",
       "      <td>Card</td>\n",
       "      <td>814,885</td>\n",
       "      <td>24,701</td>\n",
       "      <td>Male</td>\n",
       "      <td>28</td>\n",
       "      <td>10813</td>\n",
       "    </tr>\n",
       "    <tr>\n",
       "      <th>1</th>\n",
       "      <td>10000012</td>\n",
       "      <td>Pink Cab</td>\n",
       "      <td>ATLANTA GA</td>\n",
       "      <td>28.62</td>\n",
       "      <td>2016-02-07</td>\n",
       "      <td>2</td>\n",
       "      <td>February</td>\n",
       "      <td>Winter</td>\n",
       "      <td>23.666</td>\n",
       "      <td>7.067558</td>\n",
       "      <td>27703</td>\n",
       "      <td>Card</td>\n",
       "      <td>814,885</td>\n",
       "      <td>24,701</td>\n",
       "      <td>Male</td>\n",
       "      <td>27</td>\n",
       "      <td>9237</td>\n",
       "    </tr>\n",
       "    <tr>\n",
       "      <th>2</th>\n",
       "      <td>10000013</td>\n",
       "      <td>Pink Cab</td>\n",
       "      <td>ATLANTA GA</td>\n",
       "      <td>9.04</td>\n",
       "      <td>2016-02-03</td>\n",
       "      <td>2</td>\n",
       "      <td>February</td>\n",
       "      <td>Winter</td>\n",
       "      <td>27.568</td>\n",
       "      <td>28.236644</td>\n",
       "      <td>28712</td>\n",
       "      <td>Cash</td>\n",
       "      <td>814,885</td>\n",
       "      <td>24,701</td>\n",
       "      <td>Male</td>\n",
       "      <td>53</td>\n",
       "      <td>11242</td>\n",
       "    </tr>\n",
       "    <tr>\n",
       "      <th>3</th>\n",
       "      <td>10000014</td>\n",
       "      <td>Pink Cab</td>\n",
       "      <td>ATLANTA GA</td>\n",
       "      <td>33.17</td>\n",
       "      <td>2016-02-08</td>\n",
       "      <td>2</td>\n",
       "      <td>February</td>\n",
       "      <td>Winter</td>\n",
       "      <td>25.798</td>\n",
       "      <td>7.337273</td>\n",
       "      <td>28020</td>\n",
       "      <td>Cash</td>\n",
       "      <td>814,885</td>\n",
       "      <td>24,701</td>\n",
       "      <td>Male</td>\n",
       "      <td>23</td>\n",
       "      <td>23327</td>\n",
       "    </tr>\n",
       "    <tr>\n",
       "      <th>4</th>\n",
       "      <td>10000015</td>\n",
       "      <td>Pink Cab</td>\n",
       "      <td>ATLANTA GA</td>\n",
       "      <td>8.73</td>\n",
       "      <td>2016-02-04</td>\n",
       "      <td>2</td>\n",
       "      <td>February</td>\n",
       "      <td>Winter</td>\n",
       "      <td>16.844</td>\n",
       "      <td>17.227131</td>\n",
       "      <td>27182</td>\n",
       "      <td>Card</td>\n",
       "      <td>814,885</td>\n",
       "      <td>24,701</td>\n",
       "      <td>Male</td>\n",
       "      <td>33</td>\n",
       "      <td>8536</td>\n",
       "    </tr>\n",
       "  </tbody>\n",
       "</table>\n",
       "</div>"
      ],
      "text/plain": [
       "   Transaction ID   Company        City  KM Travelled Day of Travel  Month   \n",
       "0        10000011  Pink Cab  ATLANTA GA         30.45    2016-02-09      2  \\\n",
       "1        10000012  Pink Cab  ATLANTA GA         28.62    2016-02-07      2   \n",
       "2        10000013  Pink Cab  ATLANTA GA          9.04    2016-02-03      2   \n",
       "3        10000014  Pink Cab  ATLANTA GA         33.17    2016-02-08      2   \n",
       "4        10000015  Pink Cab  ATLANTA GA          8.73    2016-02-04      2   \n",
       "\n",
       "  Month Name  Season  Profit  Profit Margin (%)  Customer ID Payment_Mode   \n",
       "0   February  Winter  57.315          18.274427        29290         Card  \\\n",
       "1   February  Winter  23.666           7.067558        27703         Card   \n",
       "2   February  Winter  27.568          28.236644        28712         Cash   \n",
       "3   February  Winter  25.798           7.337273        28020         Cash   \n",
       "4   February  Winter  16.844          17.227131        27182         Card   \n",
       "\n",
       "  Population     Users Gender  Age  Income (USD/Month)  \n",
       "0   814,885    24,701    Male   28               10813  \n",
       "1   814,885    24,701    Male   27                9237  \n",
       "2   814,885    24,701    Male   53               11242  \n",
       "3   814,885    24,701    Male   23               23327  \n",
       "4   814,885    24,701    Male   33                8536  "
      ]
     },
     "execution_count": 71,
     "metadata": {},
     "output_type": "execute_result"
    }
   ],
   "source": [
    "master_dataset.head()"
   ]
  },
  {
   "cell_type": "code",
   "execution_count": 72,
   "id": "73a7605a-630a-4c53-b286-c73e8b6768d4",
   "metadata": {},
   "outputs": [
    {
     "name": "stdout",
     "output_type": "stream",
     "text": [
      "Transaction ID        0\n",
      "Company               0\n",
      "City                  0\n",
      "KM Travelled          0\n",
      "Day of Travel         0\n",
      "Month                 0\n",
      "Month Name            0\n",
      "Season                0\n",
      "Profit                0\n",
      "Profit Margin (%)     0\n",
      "Customer ID           0\n",
      "Payment_Mode          0\n",
      "Population            0\n",
      "Users                 0\n",
      "Gender                0\n",
      "Age                   0\n",
      "Income (USD/Month)    0\n",
      "dtype: int64\n"
     ]
    }
   ],
   "source": [
    "# Check for null values in the entire dataset\n",
    "null_values = master_dataset.isnull().sum()\n",
    "\n",
    "# Print the count of null values for each column\n",
    "print(null_values)\n"
   ]
  },
  {
   "cell_type": "code",
   "execution_count": 73,
   "id": "c4676415-b870-43b7-9473-3ad1d502a590",
   "metadata": {},
   "outputs": [
    {
     "name": "stdout",
     "output_type": "stream",
     "text": [
      "No duplicate entries found\n"
     ]
    }
   ],
   "source": [
    "# Check for duplicates\n",
    "duplicate_rows = master_dataset[master_dataset.duplicated()]\n",
    "\n",
    "# Print them \n",
    "if not duplicate_rows.empty:\n",
    "    print(\"Duplicate entries found:\")\n",
    "    print(duplicate_rows)\n",
    "else:\n",
    "    print(\"No duplicate entries found\")\n"
   ]
  },
  {
   "cell_type": "markdown",
   "id": "08f5fc96-7501-4cf2-a441-48f28fb45028",
   "metadata": {},
   "source": [
    "There are no null entries and no duplicates"
   ]
  },
  {
   "cell_type": "markdown",
   "id": "9e168d58-33df-49ab-88a2-a23dada536ea",
   "metadata": {},
   "source": [
    "<left><h2>Recommendations</h2></left>"
   ]
  },
  {
   "cell_type": "markdown",
   "id": "e8c01a4a-263e-4f4b-9ff3-f4f2b860120a",
   "metadata": {},
   "source": [
    "Based on the results of my analysis, I found out that Yellow Cab accounts for 76% of cab trips, makes more profit and has a much higher profit margin than Pink Cab. Therefore, I recommend investing in Yellow Cab as the data indicates that it would give a much higher return on investment"
   ]
  }
 ],
 "metadata": {
  "kernelspec": {
   "display_name": "Python 3 (ipykernel)",
   "language": "python",
   "name": "python3"
  },
  "language_info": {
   "codemirror_mode": {
    "name": "ipython",
    "version": 3
   },
   "file_extension": ".py",
   "mimetype": "text/x-python",
   "name": "python",
   "nbconvert_exporter": "python",
   "pygments_lexer": "ipython3",
   "version": "3.9.6"
  }
 },
 "nbformat": 4,
 "nbformat_minor": 5
}
